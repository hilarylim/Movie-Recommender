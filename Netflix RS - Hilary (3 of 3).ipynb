{
 "cells": [
  {
   "cell_type": "markdown",
   "id": "02990446",
   "metadata": {},
   "source": [
    "# Capstone (3/3) - Netflix Recommender (TensorFlow)"
   ]
  },
  {
   "cell_type": "markdown",
   "id": "d4158d8a",
   "metadata": {},
   "source": [
    "## 1. Import Libraries"
   ]
  },
  {
   "cell_type": "code",
   "execution_count": 1,
   "id": "67c53e24",
   "metadata": {},
   "outputs": [],
   "source": [
    "import numpy as np \n",
    "import pandas as pd\n",
    "import matplotlib.pyplot as plt\n",
    "\n",
    "from sklearn.preprocessing import LabelEncoder\n",
    "from sklearn.model_selection import train_test_split\n",
    "\n",
    "import tensorflow as tf\n",
    "from tensorflow import keras\n",
    "from keras.models import Model\n",
    "from keras.layers import Input, Reshape, Dot, Concatenate, Dense, Dropout\n",
    "from keras.layers.embeddings import Embedding\n",
    "from keras.optimizers import Adam\n",
    "from keras.regularizers import l2"
   ]
  },
  {
   "cell_type": "markdown",
   "id": "53668baf",
   "metadata": {},
   "source": [
    "## 2. Load File"
   ]
  },
  {
   "cell_type": "code",
   "execution_count": 2,
   "id": "71545ece",
   "metadata": {},
   "outputs": [
    {
     "name": "stdout",
     "output_type": "stream",
     "text": [
      "<class 'pandas.core.frame.DataFrame'>\n",
      "RangeIndex: 5116704 entries, 0 to 5116703\n",
      "Data columns (total 6 columns):\n",
      " #   Column        Dtype \n",
      "---  ------        ----- \n",
      " 0   movie_id      int64 \n",
      " 1   user_id       int64 \n",
      " 2   rating        int64 \n",
      " 3   date          object\n",
      " 4   release_year  int64 \n",
      " 5   movie_title   object\n",
      "dtypes: int64(4), object(2)\n",
      "memory usage: 234.2+ MB\n"
     ]
    }
   ],
   "source": [
    "# load file\n",
    "df =  pd.read_csv('2005-d4.csv')\n",
    "movie_df = pd.read_csv('2005-d41kMT.csv')\n",
    "\n",
    "# Using info to check the shape, column names and type of df\n",
    "df.info()"
   ]
  },
  {
   "cell_type": "markdown",
   "id": "0cb64220",
   "metadata": {},
   "source": [
    "## 3. Simple EDA and Configurations"
   ]
  },
  {
   "cell_type": "code",
   "execution_count": 3,
   "id": "367d92e2",
   "metadata": {},
   "outputs": [
    {
     "data": {
      "text/html": [
       "<div>\n",
       "<style scoped>\n",
       "    .dataframe tbody tr th:only-of-type {\n",
       "        vertical-align: middle;\n",
       "    }\n",
       "\n",
       "    .dataframe tbody tr th {\n",
       "        vertical-align: top;\n",
       "    }\n",
       "\n",
       "    .dataframe thead th {\n",
       "        text-align: right;\n",
       "    }\n",
       "</style>\n",
       "<table border=\"1\" class=\"dataframe\">\n",
       "  <thead>\n",
       "    <tr style=\"text-align: right;\">\n",
       "      <th></th>\n",
       "      <th>movie_id</th>\n",
       "      <th>user_id</th>\n",
       "      <th>rating</th>\n",
       "      <th>date</th>\n",
       "      <th>release_year</th>\n",
       "      <th>movie_title</th>\n",
       "      <th>user</th>\n",
       "      <th>movie</th>\n",
       "    </tr>\n",
       "  </thead>\n",
       "  <tbody>\n",
       "    <tr>\n",
       "      <th>0</th>\n",
       "      <td>6105</td>\n",
       "      <td>2606550</td>\n",
       "      <td>2</td>\n",
       "      <td>2005-08-21</td>\n",
       "      <td>2000</td>\n",
       "      <td>Paranoid</td>\n",
       "      <td>342296</td>\n",
       "      <td>6006</td>\n",
       "    </tr>\n",
       "    <tr>\n",
       "      <th>1</th>\n",
       "      <td>1865</td>\n",
       "      <td>482356</td>\n",
       "      <td>4</td>\n",
       "      <td>2005-11-09</td>\n",
       "      <td>2004</td>\n",
       "      <td>Eternal Sunshine of the Spotless Mind</td>\n",
       "      <td>63573</td>\n",
       "      <td>1833</td>\n",
       "    </tr>\n",
       "    <tr>\n",
       "      <th>2</th>\n",
       "      <td>4996</td>\n",
       "      <td>49106</td>\n",
       "      <td>4</td>\n",
       "      <td>2005-06-18</td>\n",
       "      <td>2000</td>\n",
       "      <td>Gone in 60 Seconds</td>\n",
       "      <td>6417</td>\n",
       "      <td>4913</td>\n",
       "    </tr>\n",
       "    <tr>\n",
       "      <th>3</th>\n",
       "      <td>1307</td>\n",
       "      <td>1090820</td>\n",
       "      <td>3</td>\n",
       "      <td>2005-07-17</td>\n",
       "      <td>2003</td>\n",
       "      <td>S.W.A.T.</td>\n",
       "      <td>143469</td>\n",
       "      <td>1285</td>\n",
       "    </tr>\n",
       "    <tr>\n",
       "      <th>4</th>\n",
       "      <td>9628</td>\n",
       "      <td>502622</td>\n",
       "      <td>3</td>\n",
       "      <td>2005-09-02</td>\n",
       "      <td>1983</td>\n",
       "      <td>Star Wars: Episode VI: Return of the Jedi</td>\n",
       "      <td>66280</td>\n",
       "      <td>9471</td>\n",
       "    </tr>\n",
       "    <tr>\n",
       "      <th>...</th>\n",
       "      <td>...</td>\n",
       "      <td>...</td>\n",
       "      <td>...</td>\n",
       "      <td>...</td>\n",
       "      <td>...</td>\n",
       "      <td>...</td>\n",
       "      <td>...</td>\n",
       "      <td>...</td>\n",
       "    </tr>\n",
       "    <tr>\n",
       "      <th>5116699</th>\n",
       "      <td>1865</td>\n",
       "      <td>1500751</td>\n",
       "      <td>5</td>\n",
       "      <td>2005-09-25</td>\n",
       "      <td>2004</td>\n",
       "      <td>Eternal Sunshine of the Spotless Mind</td>\n",
       "      <td>197136</td>\n",
       "      <td>1833</td>\n",
       "    </tr>\n",
       "    <tr>\n",
       "      <th>5116700</th>\n",
       "      <td>7193</td>\n",
       "      <td>1646303</td>\n",
       "      <td>5</td>\n",
       "      <td>2005-10-14</td>\n",
       "      <td>1987</td>\n",
       "      <td>The Princess Bride</td>\n",
       "      <td>216403</td>\n",
       "      <td>7073</td>\n",
       "    </tr>\n",
       "    <tr>\n",
       "      <th>5116701</th>\n",
       "      <td>1073</td>\n",
       "      <td>129941</td>\n",
       "      <td>4</td>\n",
       "      <td>2005-06-27</td>\n",
       "      <td>2005</td>\n",
       "      <td>Coach Carter</td>\n",
       "      <td>17002</td>\n",
       "      <td>1053</td>\n",
       "    </tr>\n",
       "    <tr>\n",
       "      <th>5116702</th>\n",
       "      <td>2782</td>\n",
       "      <td>104920</td>\n",
       "      <td>4</td>\n",
       "      <td>2005-11-17</td>\n",
       "      <td>1995</td>\n",
       "      <td>Braveheart</td>\n",
       "      <td>13663</td>\n",
       "      <td>2738</td>\n",
       "    </tr>\n",
       "    <tr>\n",
       "      <th>5116703</th>\n",
       "      <td>17508</td>\n",
       "      <td>2121864</td>\n",
       "      <td>5</td>\n",
       "      <td>2005-08-15</td>\n",
       "      <td>2000</td>\n",
       "      <td>Requiem for a Dream</td>\n",
       "      <td>278577</td>\n",
       "      <td>17253</td>\n",
       "    </tr>\n",
       "  </tbody>\n",
       "</table>\n",
       "<p>5116704 rows × 8 columns</p>\n",
       "</div>"
      ],
      "text/plain": [
       "         movie_id  user_id  rating        date  release_year  \\\n",
       "0            6105  2606550       2  2005-08-21          2000   \n",
       "1            1865   482356       4  2005-11-09          2004   \n",
       "2            4996    49106       4  2005-06-18          2000   \n",
       "3            1307  1090820       3  2005-07-17          2003   \n",
       "4            9628   502622       3  2005-09-02          1983   \n",
       "...           ...      ...     ...         ...           ...   \n",
       "5116699      1865  1500751       5  2005-09-25          2004   \n",
       "5116700      7193  1646303       5  2005-10-14          1987   \n",
       "5116701      1073   129941       4  2005-06-27          2005   \n",
       "5116702      2782   104920       4  2005-11-17          1995   \n",
       "5116703     17508  2121864       5  2005-08-15          2000   \n",
       "\n",
       "                                       movie_title    user  movie  \n",
       "0                                         Paranoid  342296   6006  \n",
       "1            Eternal Sunshine of the Spotless Mind   63573   1833  \n",
       "2                               Gone in 60 Seconds    6417   4913  \n",
       "3                                         S.W.A.T.  143469   1285  \n",
       "4        Star Wars: Episode VI: Return of the Jedi   66280   9471  \n",
       "...                                            ...     ...    ...  \n",
       "5116699      Eternal Sunshine of the Spotless Mind  197136   1833  \n",
       "5116700                         The Princess Bride  216403   7073  \n",
       "5116701                               Coach Carter   17002   1053  \n",
       "5116702                                 Braveheart   13663   2738  \n",
       "5116703                        Requiem for a Dream  278577  17253  \n",
       "\n",
       "[5116704 rows x 8 columns]"
      ]
     },
     "execution_count": 3,
     "metadata": {},
     "output_type": "execute_result"
    }
   ],
   "source": [
    "# Copy df as a new df\n",
    "new_df = df.copy(deep=True)\n",
    "\n",
    "# use label encoder for movie id and user id, such that they will be in running sequence\n",
    "le = LabelEncoder()\n",
    "new_df['user'] = le.fit_transform(new_df['user_id'].values)\n",
    "new_df['movie'] = le.fit_transform(new_df['movie_id'].values)\n",
    "\n",
    "n_users = new_df['user'].nunique()\n",
    "n_movies = new_df['movie'].nunique()\n",
    "\n",
    "new_df"
   ]
  },
  {
   "cell_type": "markdown",
   "id": "70993f9d",
   "metadata": {},
   "source": [
    "## 4. Split Data into Train, Test and Validation Sets"
   ]
  },
  {
   "cell_type": "code",
   "execution_count": 4,
   "id": "3e68219e",
   "metadata": {},
   "outputs": [],
   "source": [
    "#Set the X and y variables\n",
    "X = new_df[['user', 'movie']].values\n",
    "y = new_df['rating'].values\n",
    "\n",
    "# Split train and test data (for test model performance at last)\n",
    "X_training, X_test, y_training, y_test = train_test_split(X, y, test_size=0.1)\n",
    "\n",
    "# Split train and validation data (to monitor model performance in training)\n",
    "X_train, X_val, y_train, y_val = train_test_split(X_training, y_training, test_size=0.1)\n",
    "\n",
    "# Set the embedding dimension d of Matrix factorization\n",
    "e_dimension = 50\n",
    "\n",
    "X_train_array = [X_train[:, 0], X_train[:, 1]]\n",
    "X_val_array = [X_val[:, 0], X_val[:, 1]]\n",
    "X_test_array = [X_test[:, 0], X_test[:, 1]]"
   ]
  },
  {
   "cell_type": "markdown",
   "id": "a27e54c1",
   "metadata": {},
   "source": [
    "## 5. Create the Model"
   ]
  },
  {
   "cell_type": "code",
   "execution_count": 5,
   "id": "7123dada",
   "metadata": {
    "scrolled": false
   },
   "outputs": [
    {
     "name": "stdout",
     "output_type": "stream",
     "text": [
      "Model: \"functional_1\"\n",
      "__________________________________________________________________________________________________\n",
      "Layer (type)                    Output Shape         Param #     Connected to                     \n",
      "==================================================================================================\n",
      "input_1 (InputLayer)            [(None, 1)]          0                                            \n",
      "__________________________________________________________________________________________________\n",
      "input_2 (InputLayer)            [(None, 1)]          0                                            \n",
      "__________________________________________________________________________________________________\n",
      "embedding (Embedding)           (None, 1, 50)        17398900    input_1[0][0]                    \n",
      "__________________________________________________________________________________________________\n",
      "embedding_1 (Embedding)         (None, 1, 50)        875600      input_2[0][0]                    \n",
      "__________________________________________________________________________________________________\n",
      "reshape (Reshape)               (None, 50)           0           embedding[0][0]                  \n",
      "__________________________________________________________________________________________________\n",
      "reshape_1 (Reshape)             (None, 50)           0           embedding_1[0][0]                \n",
      "__________________________________________________________________________________________________\n",
      "dot (Dot)                       (None, 1)            0           reshape[0][0]                    \n",
      "                                                                 reshape_1[0][0]                  \n",
      "__________________________________________________________________________________________________\n",
      "dense (Dense)                   (None, 128)          256         dot[0][0]                        \n",
      "__________________________________________________________________________________________________\n",
      "dropout (Dropout)               (None, 128)          0           dense[0][0]                      \n",
      "__________________________________________________________________________________________________\n",
      "dense_1 (Dense)                 (None, 1)            129         dropout[0][0]                    \n",
      "==================================================================================================\n",
      "Total params: 18,274,885\n",
      "Trainable params: 18,274,885\n",
      "Non-trainable params: 0\n",
      "__________________________________________________________________________________________________\n",
      "Epoch 1/20\n"
     ]
    },
    {
     "name": "stderr",
     "output_type": "stream",
     "text": [
      "C:\\Anaconda\\envs\\tf\\lib\\site-packages\\tensorflow\\python\\framework\\indexed_slices.py:431: UserWarning: Converting sparse IndexedSlices to a dense Tensor of unknown shape. This may consume a large amount of memory.\n",
      "  warnings.warn(\n"
     ]
    },
    {
     "name": "stdout",
     "output_type": "stream",
     "text": [
      "64759/64759 [==============================] - ETA: 0s - loss: 1.1540 - root_mean_squared_error: 1.0636WARNING:tensorflow:From C:\\Anaconda\\envs\\tf\\lib\\site-packages\\tensorflow\\python\\training\\tracking\\tracking.py:111: Model.state_updates (from tensorflow.python.keras.engine.training) is deprecated and will be removed in a future version.\n",
      "Instructions for updating:\n",
      "This property should not be used in TensorFlow 2.0, as updates are applied automatically.\n",
      "WARNING:tensorflow:From C:\\Anaconda\\envs\\tf\\lib\\site-packages\\tensorflow\\python\\training\\tracking\\tracking.py:111: Layer.updates (from tensorflow.python.keras.engine.base_layer) is deprecated and will be removed in a future version.\n",
      "Instructions for updating:\n",
      "This property should not be used in TensorFlow 2.0, as updates are applied automatically.\n",
      "INFO:tensorflow:Assets written to: Model_1\\assets\n",
      "64759/64759 [==============================] - 12342s 191ms/step - loss: 1.1540 - root_mean_squared_error: 1.0636 - val_loss: 1.0671 - val_root_mean_squared_error: 1.0166\n",
      "Epoch 2/20\n",
      "64759/64759 [==============================] - ETA: 0s - loss: 1.0246 - root_mean_squared_error: 0.9925INFO:tensorflow:Assets written to: Model_1\\assets\n",
      "64759/64759 [==============================] - 11941s 184ms/step - loss: 1.0246 - root_mean_squared_error: 0.9925 - val_loss: 1.0628 - val_root_mean_squared_error: 1.0105\n",
      "Epoch 3/20\n",
      "64759/64759 [==============================] - 11084s 171ms/step - loss: 0.9919 - root_mean_squared_error: 0.9728 - val_loss: 1.0660 - val_root_mean_squared_error: 1.0098\n",
      "INFO:tensorflow:Assets written to: Model_1\\assets\n"
     ]
    }
   ],
   "source": [
    "# Build user embedding matrix\n",
    "user = Input(shape=(1,))\n",
    "u = Embedding(n_users, e_dimension, embeddings_initializer='he_normal',\n",
    "              embeddings_regularizer=l2(1e-6))(user)\n",
    "u = Reshape((e_dimension,))(u)\n",
    "\n",
    "# Build movie embedding matrix\n",
    "movie = Input(shape=(1,))\n",
    "m = Embedding(n_movies, e_dimension, embeddings_initializer='he_normal',\n",
    "              embeddings_regularizer=l2(1e-6))(movie)\n",
    "m = Reshape((e_dimension,))(m)\n",
    "\n",
    "\n",
    "x = Dot(axes=1)([u, m])\n",
    "\n",
    "\n",
    "# Build last deep learning layers \n",
    "x = Dense(128, activation='relu')(x)\n",
    "x = Dropout(0.2)(x)\n",
    "x = Dense(1)(x)\n",
    "\n",
    "model = Model(inputs=[user, movie], outputs=x)\n",
    "model.compile(loss='mean_squared_error', optimizer=Adam(lr=0.001), metrics=[tf.keras.metrics.RootMeanSquaredError()])\n",
    "\n",
    "# Set up for early stop if the validation loss stop improving for more than 1 epoch\n",
    "callbacks_list = [keras.callbacks.EarlyStopping(monitor='val_loss', patience=1,),\n",
    "                  # Saves the weights after every epoch\n",
    "                  keras.callbacks.ModelCheckpoint(filepath='Model_1', monitor='val_loss', save_best_only=True,)]\n",
    "\n",
    "# Print model info summary\n",
    "model.summary()  \n",
    "\n",
    "history = model.fit(x=X_train_array, y=y_train, batch_size=64, epochs=20,\n",
    "                    verbose=1, callbacks=callbacks_list, validation_data=(X_val_array, y_val))\n",
    "\n",
    "# Save the model\n",
    "model.save(\"Model_1\")"
   ]
  },
  {
   "cell_type": "markdown",
   "id": "bc747396",
   "metadata": {},
   "source": [
    "### (I). Visualise the Training and Validation Loss"
   ]
  },
  {
   "cell_type": "code",
   "execution_count": 6,
   "id": "46288473",
   "metadata": {},
   "outputs": [
    {
     "data": {
      "image/png": "[encoded data removed]",
      "text/plain": [
       "<Figure size 432x288 with 1 Axes>"
      ]
     },
     "metadata": {
      "needs_background": "light"
     },
     "output_type": "display_data"
    }
   ],
   "source": [
    "# Visualize the training and validation loss\n",
    "\n",
    "history_dict = history.history\n",
    "loss_values = history_dict['loss']\n",
    "val_loss_values = history_dict['val_loss']\n",
    "epochs = range(1, len(loss_values) + 1)\n",
    "\n",
    "plt.plot(epochs, loss_values, 'ro', label='Training loss')\n",
    "plt.plot(epochs, val_loss_values, 'b', label='Validation loss')\n",
    "plt.title('Training and validation loss')\n",
    "plt.xlabel('Epochs')\n",
    "plt.ylabel('Loss')\n",
    "plt.legend()\n",
    "plt.show()"
   ]
  },
  {
   "cell_type": "markdown",
   "id": "851d2383",
   "metadata": {},
   "source": [
    "### (II). Compute RMSE Score"
   ]
  },
  {
   "cell_type": "code",
   "execution_count": 7,
   "id": "7e82504c",
   "metadata": {},
   "outputs": [
    {
     "data": {
      "text/plain": [
       "1.0086962"
      ]
     },
     "execution_count": 7,
     "metadata": {},
     "output_type": "execute_result"
    }
   ],
   "source": [
    "m = tf.keras.metrics.RootMeanSquaredError()\n",
    "m.update_state(model.predict(X_test_array), y_test)\n",
    "m.result().numpy()"
   ]
  },
  {
   "cell_type": "markdown",
   "id": "bb2c0857",
   "metadata": {},
   "source": [
    "## 6. Verdict for using Keras Recommender"
   ]
  },
  {
   "cell_type": "markdown",
   "id": "c6690b00",
   "metadata": {},
   "source": [
    "From the above RMSE results (ranges from 97.28% to 106.36%) for 5 million worth of data, Keras is not one of the best 3 RMSE achieved as compared to the surprise library. \n",
    "\\\n",
    "Hence, recommendations will be provided for the best three RMSE attained are in << Netflix RS - Hilary (2 of 3) >>. "
   ]
  },
  {
   "cell_type": "markdown",
   "id": "d8eaf01e",
   "metadata": {},
   "source": [
    "## == END == "
   ]
  }
 ],
 "metadata": {
  "kernelspec": {
   "display_name": "Python 3",
   "language": "python",
   "name": "python3"
  },
  "language_info": {
   "codemirror_mode": {
    "name": "ipython",
    "version": 3
   },
   "file_extension": ".py",
   "mimetype": "text/x-python",
   "name": "python",
   "nbconvert_exporter": "python",
   "pygments_lexer": "ipython3",
   "version": "3.8.8"
  }
 },
 "nbformat": 4,
 "nbformat_minor": 5
}
