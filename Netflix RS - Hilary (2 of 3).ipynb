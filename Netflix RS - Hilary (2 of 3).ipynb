{
 "cells": [
  {
   "cell_type": "markdown",
   "id": "46e721a0",
   "metadata": {},
   "source": [
    "# Capstone (2/3) - Netflix Recommender (Surprise)"
   ]
  },
  {
   "cell_type": "markdown",
   "id": "522002ed",
   "metadata": {},
   "source": [
    "## 1. Import Libraries"
   ]
  },
  {
   "cell_type": "code",
   "execution_count": 1,
   "id": "ad7d5af0",
   "metadata": {},
   "outputs": [],
   "source": [
    "import numpy as np\n",
    "import pandas as pd\n",
    "import matplotlib.pyplot as plt\n",
    "\n",
    "from surprise import Dataset, Reader \n",
    "from surprise import NormalPredictor, BaselineOnly, SVD, NMF, KNNBasic, KNNWithMeans, KNNBaseline\n",
    "from surprise import accuracy\n",
    "from surprise.model_selection import cross_validate"
   ]
  },
  {
   "cell_type": "markdown",
   "id": "8ac897b5",
   "metadata": {},
   "source": [
    "## 2. Load File"
   ]
  },
  {
   "cell_type": "code",
   "execution_count": 2,
   "id": "6e2792b4",
   "metadata": {},
   "outputs": [],
   "source": [
    "# load file\n",
    "nf =  pd.read_csv('2005-d4.csv')\n",
    "movie_df = pd.read_csv('2005-d41kMT.csv')\n",
    "movie_titles = pd.read_csv('movie_titles.csv', names=['movie_id','release_year','movie_title'], encoding = 'ISO-8859-1')"
   ]
  },
  {
   "cell_type": "code",
   "execution_count": 3,
   "id": "1ecdbc55",
   "metadata": {},
   "outputs": [
    {
     "name": "stdout",
     "output_type": "stream",
     "text": [
      "<class 'pandas.core.frame.DataFrame'>\n",
      "RangeIndex: 5116704 entries, 0 to 5116703\n",
      "Data columns (total 6 columns):\n",
      " #   Column        Dtype \n",
      "---  ------        ----- \n",
      " 0   movie_id      int64 \n",
      " 1   user_id       int64 \n",
      " 2   rating        int64 \n",
      " 3   date          object\n",
      " 4   release_year  int64 \n",
      " 5   movie_title   object\n",
      "dtypes: int64(4), object(2)\n",
      "memory usage: 234.2+ MB\n"
     ]
    }
   ],
   "source": [
    "# read the dataframe information\n",
    "nf.info()"
   ]
  },
  {
   "cell_type": "code",
   "execution_count": 4,
   "id": "019fac1b",
   "metadata": {},
   "outputs": [],
   "source": [
    "# convert date to datetime format\n",
    "nf['date'] = pd.to_datetime(nf['date'], format='%Y-%m-%d')"
   ]
  },
  {
   "cell_type": "code",
   "execution_count": 5,
   "id": "8966dff7",
   "metadata": {},
   "outputs": [
    {
     "data": {
      "text/plain": [
       "movie_id        0\n",
       "user_id         0\n",
       "rating          0\n",
       "date            0\n",
       "release_year    0\n",
       "movie_title     0\n",
       "dtype: int64"
      ]
     },
     "execution_count": 5,
     "metadata": {},
     "output_type": "execute_result"
    }
   ],
   "source": [
    "# Check for any null values\n",
    "nf.isnull().sum()"
   ]
  },
  {
   "cell_type": "code",
   "execution_count": 6,
   "id": "f515e11c",
   "metadata": {},
   "outputs": [
    {
     "data": {
      "text/html": [
       "<div>\n",
       "<style scoped>\n",
       "    .dataframe tbody tr th:only-of-type {\n",
       "        vertical-align: middle;\n",
       "    }\n",
       "\n",
       "    .dataframe tbody tr th {\n",
       "        vertical-align: top;\n",
       "    }\n",
       "\n",
       "    .dataframe thead th {\n",
       "        text-align: right;\n",
       "    }\n",
       "</style>\n",
       "<table border=\"1\" class=\"dataframe\">\n",
       "  <thead>\n",
       "    <tr style=\"text-align: right;\">\n",
       "      <th></th>\n",
       "      <th>movie_id</th>\n",
       "      <th>user_id</th>\n",
       "      <th>rating</th>\n",
       "      <th>date</th>\n",
       "      <th>release_year</th>\n",
       "      <th>movie_title</th>\n",
       "    </tr>\n",
       "  </thead>\n",
       "  <tbody>\n",
       "    <tr>\n",
       "      <th>count</th>\n",
       "      <td>5.116704e+06</td>\n",
       "      <td>5.116704e+06</td>\n",
       "      <td>5.116704e+06</td>\n",
       "      <td>5116704</td>\n",
       "      <td>5.116704e+06</td>\n",
       "      <td>5116704</td>\n",
       "    </tr>\n",
       "    <tr>\n",
       "      <th>unique</th>\n",
       "      <td>NaN</td>\n",
       "      <td>NaN</td>\n",
       "      <td>NaN</td>\n",
       "      <td>NaN</td>\n",
       "      <td>NaN</td>\n",
       "      <td>17050</td>\n",
       "    </tr>\n",
       "    <tr>\n",
       "      <th>top</th>\n",
       "      <td>NaN</td>\n",
       "      <td>NaN</td>\n",
       "      <td>NaN</td>\n",
       "      <td>NaN</td>\n",
       "      <td>NaN</td>\n",
       "      <td>National Treasure</td>\n",
       "    </tr>\n",
       "    <tr>\n",
       "      <th>freq</th>\n",
       "      <td>NaN</td>\n",
       "      <td>NaN</td>\n",
       "      <td>NaN</td>\n",
       "      <td>NaN</td>\n",
       "      <td>NaN</td>\n",
       "      <td>20658</td>\n",
       "    </tr>\n",
       "    <tr>\n",
       "      <th>mean</th>\n",
       "      <td>9.181094e+03</td>\n",
       "      <td>1.326255e+06</td>\n",
       "      <td>3.690217e+00</td>\n",
       "      <td>2005-09-04 03:07:01.133603456</td>\n",
       "      <td>1.994299e+03</td>\n",
       "      <td>NaN</td>\n",
       "    </tr>\n",
       "    <tr>\n",
       "      <th>min</th>\n",
       "      <td>1.000000e+00</td>\n",
       "      <td>6.000000e+00</td>\n",
       "      <td>1.000000e+00</td>\n",
       "      <td>2005-06-01 00:00:00</td>\n",
       "      <td>1.896000e+03</td>\n",
       "      <td>NaN</td>\n",
       "    </tr>\n",
       "    <tr>\n",
       "      <th>25%</th>\n",
       "      <td>4.884000e+03</td>\n",
       "      <td>6.627460e+05</td>\n",
       "      <td>3.000000e+00</td>\n",
       "      <td>2005-07-17 00:00:00</td>\n",
       "      <td>1.990000e+03</td>\n",
       "      <td>NaN</td>\n",
       "    </tr>\n",
       "    <tr>\n",
       "      <th>50%</th>\n",
       "      <td>9.340000e+03</td>\n",
       "      <td>1.327787e+06</td>\n",
       "      <td>4.000000e+00</td>\n",
       "      <td>2005-09-03 00:00:00</td>\n",
       "      <td>1.999000e+03</td>\n",
       "      <td>NaN</td>\n",
       "    </tr>\n",
       "    <tr>\n",
       "      <th>75%</th>\n",
       "      <td>1.367500e+04</td>\n",
       "      <td>1.989631e+06</td>\n",
       "      <td>5.000000e+00</td>\n",
       "      <td>2005-10-20 00:00:00</td>\n",
       "      <td>2.003000e+03</td>\n",
       "      <td>NaN</td>\n",
       "    </tr>\n",
       "    <tr>\n",
       "      <th>max</th>\n",
       "      <td>1.777000e+04</td>\n",
       "      <td>2.649429e+06</td>\n",
       "      <td>5.000000e+00</td>\n",
       "      <td>2005-12-31 00:00:00</td>\n",
       "      <td>2.005000e+03</td>\n",
       "      <td>NaN</td>\n",
       "    </tr>\n",
       "    <tr>\n",
       "      <th>std</th>\n",
       "      <td>5.126712e+03</td>\n",
       "      <td>7.647083e+05</td>\n",
       "      <td>1.087974e+00</td>\n",
       "      <td>NaN</td>\n",
       "      <td>1.253753e+01</td>\n",
       "      <td>NaN</td>\n",
       "    </tr>\n",
       "  </tbody>\n",
       "</table>\n",
       "</div>"
      ],
      "text/plain": [
       "            movie_id       user_id        rating  \\\n",
       "count   5.116704e+06  5.116704e+06  5.116704e+06   \n",
       "unique           NaN           NaN           NaN   \n",
       "top              NaN           NaN           NaN   \n",
       "freq             NaN           NaN           NaN   \n",
       "mean    9.181094e+03  1.326255e+06  3.690217e+00   \n",
       "min     1.000000e+00  6.000000e+00  1.000000e+00   \n",
       "25%     4.884000e+03  6.627460e+05  3.000000e+00   \n",
       "50%     9.340000e+03  1.327787e+06  4.000000e+00   \n",
       "75%     1.367500e+04  1.989631e+06  5.000000e+00   \n",
       "max     1.777000e+04  2.649429e+06  5.000000e+00   \n",
       "std     5.126712e+03  7.647083e+05  1.087974e+00   \n",
       "\n",
       "                                 date  release_year        movie_title  \n",
       "count                         5116704  5.116704e+06            5116704  \n",
       "unique                            NaN           NaN              17050  \n",
       "top                               NaN           NaN  National Treasure  \n",
       "freq                              NaN           NaN              20658  \n",
       "mean    2005-09-04 03:07:01.133603456  1.994299e+03                NaN  \n",
       "min               2005-06-01 00:00:00  1.896000e+03                NaN  \n",
       "25%               2005-07-17 00:00:00  1.990000e+03                NaN  \n",
       "50%               2005-09-03 00:00:00  1.999000e+03                NaN  \n",
       "75%               2005-10-20 00:00:00  2.003000e+03                NaN  \n",
       "max               2005-12-31 00:00:00  2.005000e+03                NaN  \n",
       "std                               NaN  1.253753e+01                NaN  "
      ]
     },
     "execution_count": 6,
     "metadata": {},
     "output_type": "execute_result"
    }
   ],
   "source": [
    "# see the dataset details \n",
    "nf.describe(include = 'all', datetime_is_numeric=True)"
   ]
  },
  {
   "cell_type": "markdown",
   "id": "b42ac54d",
   "metadata": {},
   "source": [
    "## 3. Assumptions"
   ]
  },
  {
   "cell_type": "markdown",
   "id": "83fb1b12",
   "metadata": {},
   "source": [
    "Moving forward, to use cross validation because it is not bias comparing with 1 prediction (of 1 fold). \n",
    "\\\n",
    "Thus, there is no need to split data into train and test anymore. "
   ]
  },
  {
   "cell_type": "markdown",
   "id": "c58a1a16",
   "metadata": {},
   "source": [
    "* For the Netflix Prize Data, RMSE measurement is used for comparison. Hence, we will use this too. "
   ]
  },
  {
   "cell_type": "markdown",
   "id": "702663f5",
   "metadata": {},
   "source": [
    "* kfolds of 5 to reduce biasness and time spent (instead of 3 or 10). "
   ]
  },
  {
   "cell_type": "markdown",
   "id": "531299ec",
   "metadata": {},
   "source": [
    "## 4. Prepare Dataset - Surprise"
   ]
  },
  {
   "cell_type": "code",
   "execution_count": 7,
   "id": "5d062732",
   "metadata": {},
   "outputs": [],
   "source": [
    "# Using the Surprise Library to read the dataset\n",
    "\n",
    "reader = Reader(rating_scale=(1,5))\n",
    "nf1 = Dataset.load_from_df(nf[['movie_id', 'user_id', 'rating']], reader)"
   ]
  },
  {
   "cell_type": "code",
   "execution_count": 8,
   "id": "3a961f45",
   "metadata": {},
   "outputs": [],
   "source": [
    "# Set the similarity options for KNN algorithms in advance for pearson r \n",
    "\n",
    "sim_pr = {'name': 'pearson','shrinkage': 0}"
   ]
  },
  {
   "cell_type": "code",
   "execution_count": 9,
   "id": "cc7106d3",
   "metadata": {},
   "outputs": [],
   "source": [
    "# calling all algorithms \n",
    "\n",
    "np = NormalPredictor()\n",
    "bo = BaselineOnly()\n",
    "\n",
    "svd = SVD()\n",
    "nmf = NMF()\n",
    "\n",
    "knnb = KNNBasic()\n",
    "knnb_pr = KNNBasic(sim_options=sim_pr)\n",
    "knnbo = KNNBaseline()\n",
    "knnbo_pr = KNNBaseline(sim_options=sim_pr)"
   ]
  },
  {
   "cell_type": "markdown",
   "id": "03e4287f",
   "metadata": {},
   "source": [
    "## 5. Algorithms (Collaborative Filter -- Model-Based)"
   ]
  },
  {
   "cell_type": "markdown",
   "id": "a98f67f1",
   "metadata": {},
   "source": [
    "### (I) Normal Predictor"
   ]
  },
  {
   "cell_type": "code",
   "execution_count": 10,
   "id": "bdedf337",
   "metadata": {
    "scrolled": true
   },
   "outputs": [
    {
     "name": "stdout",
     "output_type": "stream",
     "text": [
      "Evaluating RMSE, MAE of algorithm NormalPredictor on 5 split(s).\n",
      "\n",
      "                  Fold 1  Fold 2  Fold 3  Fold 4  Fold 5  Mean    Std     \n",
      "RMSE (testset)    1.4632  1.4628  1.4610  1.4623  1.4628  1.4624  0.0008  \n",
      "MAE (testset)     1.1700  1.1699  1.1680  1.1691  1.1699  1.1694  0.0008  \n",
      "Fit time          6.04    8.26    8.21    8.32    8.21    7.81    0.89    \n",
      "Test time         9.72    9.32    8.61    9.25    8.37    9.05    0.50    \n"
     ]
    },
    {
     "data": {
      "text/plain": [
       "{'test_rmse': array([1.4632444 , 1.46280941, 1.46095104, 1.4623228 , 1.46276784]),\n",
       " 'test_mae': array([1.17003581, 1.16992045, 1.16797589, 1.16908071, 1.16992386]),\n",
       " 'fit_time': (6.037235975265503,\n",
       "  8.263891458511353,\n",
       "  8.20615553855896,\n",
       "  8.322164297103882,\n",
       "  8.211103916168213),\n",
       " 'test_time': (9.724432229995728,\n",
       "  9.32488226890564,\n",
       "  8.606228351593018,\n",
       "  9.248372316360474,\n",
       "  8.367465496063232)}"
      ]
     },
     "execution_count": 10,
     "metadata": {},
     "output_type": "execute_result"
    }
   ],
   "source": [
    "# Run 5-fold cross-validation and print results.\n",
    "cross_validate(np, nf1, measures=['RMSE', 'MAE'], cv=5, verbose=True)"
   ]
  },
  {
   "cell_type": "markdown",
   "id": "4ac8169e",
   "metadata": {},
   "source": [
    "To reject Normal Predictor algorithm, as the RMSE is off the charts. "
   ]
  },
  {
   "cell_type": "markdown",
   "id": "a42d7e4b",
   "metadata": {},
   "source": [
    "### (II) BaselineOnly"
   ]
  },
  {
   "cell_type": "code",
   "execution_count": 11,
   "id": "0a40f41b",
   "metadata": {},
   "outputs": [
    {
     "name": "stdout",
     "output_type": "stream",
     "text": [
      "Estimating biases using als...\n",
      "Estimating biases using als...\n",
      "Estimating biases using als...\n",
      "Estimating biases using als...\n",
      "Estimating biases using als...\n",
      "Evaluating RMSE, MAE of algorithm BaselineOnly on 5 split(s).\n",
      "\n",
      "                  Fold 1  Fold 2  Fold 3  Fold 4  Fold 5  Mean    Std     \n",
      "RMSE (testset)    0.9522  0.9520  0.9505  0.9514  0.9532  0.9519  0.0009  \n",
      "MAE (testset)     0.7511  0.7514  0.7509  0.7508  0.7519  0.7512  0.0004  \n",
      "Fit time          20.48   22.48   22.65   22.44   22.71   22.15   0.84    \n",
      "Test time         7.87    7.77    7.85    7.90    7.98    7.88    0.07    \n"
     ]
    },
    {
     "data": {
      "text/plain": [
       "{'test_rmse': array([0.95222147, 0.95200974, 0.95051284, 0.95135682, 0.95315557]),\n",
       " 'test_mae': array([0.7511174 , 0.75138459, 0.75089839, 0.75079228, 0.75188359]),\n",
       " 'fit_time': (20.478379011154175,\n",
       "  22.481547832489014,\n",
       "  22.64858078956604,\n",
       "  22.43720269203186,\n",
       "  22.70942258834839),\n",
       " 'test_time': (7.873626232147217,\n",
       "  7.768875598907471,\n",
       "  7.850117921829224,\n",
       "  7.9025092124938965,\n",
       "  7.984791994094849)}"
      ]
     },
     "execution_count": 11,
     "metadata": {},
     "output_type": "execute_result"
    }
   ],
   "source": [
    "# Run 5-fold cross-validation and print results.\n",
    "cross_validate(bo, nf1, measures=['RMSE', 'MAE'], cv=5, verbose=True)"
   ]
  },
  {
   "cell_type": "markdown",
   "id": "06bafaf9",
   "metadata": {},
   "source": [
    "We can consider the BaselineOnly algorithm, although the RMSE is high. But there is a 1.1% improvement as compared to Cinematch score of 95.25%."
   ]
  },
  {
   "cell_type": "markdown",
   "id": "2c902393",
   "metadata": {},
   "source": [
    "### (III) Matrix Decomposition"
   ]
  },
  {
   "cell_type": "markdown",
   "id": "c9d07247",
   "metadata": {},
   "source": [
    "#### (A) SVD"
   ]
  },
  {
   "cell_type": "code",
   "execution_count": 12,
   "id": "16f24f5a",
   "metadata": {},
   "outputs": [
    {
     "name": "stdout",
     "output_type": "stream",
     "text": [
      "Evaluating RMSE, MAE of algorithm SVD on 5 split(s).\n",
      "\n",
      "                  Fold 1  Fold 2  Fold 3  Fold 4  Fold 5  Mean    Std     \n",
      "RMSE (testset)    0.9641  0.9634  0.9671  0.9656  0.9654  0.9651  0.0013  \n",
      "MAE (testset)     0.7558  0.7553  0.7579  0.7570  0.7565  0.7565  0.0009  \n",
      "Fit time          201.04  202.72  202.69  202.86  203.26  202.51  0.77    \n",
      "Test time         9.76    9.46    11.27   11.33   12.02   10.77   0.99    \n"
     ]
    },
    {
     "data": {
      "text/plain": [
       "{'test_rmse': array([0.96410411, 0.963449  , 0.96707909, 0.96559049, 0.96539016]),\n",
       " 'test_mae': array([0.75575637, 0.75534729, 0.75793194, 0.75697514, 0.75654472]),\n",
       " 'fit_time': (201.03636717796326,\n",
       "  202.7239968776703,\n",
       "  202.6918168067932,\n",
       "  202.85834503173828,\n",
       "  203.25560426712036),\n",
       " 'test_time': (9.764836072921753,\n",
       "  9.461615562438965,\n",
       "  11.271177768707275,\n",
       "  11.333149909973145,\n",
       "  12.019845962524414)}"
      ]
     },
     "execution_count": 12,
     "metadata": {},
     "output_type": "execute_result"
    }
   ],
   "source": [
    "# Run 5-fold cross-validation and print results.\n",
    "cross_validate(svd, nf1, measures=['RMSE', 'MAE'], cv=5, verbose=True)"
   ]
  },
  {
   "cell_type": "markdown",
   "id": "fd8bec7e",
   "metadata": {},
   "source": [
    "#### (B) NMF"
   ]
  },
  {
   "cell_type": "code",
   "execution_count": 13,
   "id": "6c5fc86d",
   "metadata": {
    "scrolled": true
   },
   "outputs": [
    {
     "name": "stdout",
     "output_type": "stream",
     "text": [
      "Evaluating RMSE, MAE of algorithm NMF on 5 split(s).\n",
      "\n",
      "                  Fold 1  Fold 2  Fold 3  Fold 4  Fold 5  Mean    Std     \n",
      "RMSE (testset)    1.0174  1.0166  1.0153  1.0160  1.0167  1.0164  0.0007  \n",
      "MAE (testset)     0.7890  0.7883  0.7876  0.7881  0.7890  0.7884  0.0006  \n",
      "Fit time          289.37  291.29  291.49  291.46  291.18  290.96  0.80    \n",
      "Test time         12.10   9.47    9.42    9.41    9.58    10.00   1.05    \n"
     ]
    },
    {
     "data": {
      "text/plain": [
       "{'test_rmse': array([1.01739092, 1.01662117, 1.01528338, 1.01597694, 1.01668263]),\n",
       " 'test_mae': array([0.78902326, 0.78833205, 0.78760064, 0.78811515, 0.78904727]),\n",
       " 'fit_time': (289.37050223350525,\n",
       "  291.2917425632477,\n",
       "  291.48831129074097,\n",
       "  291.4604244232178,\n",
       "  291.1844599246979),\n",
       " 'test_time': (12.096824407577515,\n",
       "  9.474971294403076,\n",
       "  9.41965365409851,\n",
       "  9.413270473480225,\n",
       "  9.575867652893066)}"
      ]
     },
     "execution_count": 13,
     "metadata": {},
     "output_type": "execute_result"
    }
   ],
   "source": [
    "# Run 5-fold cross-validation and print results.\n",
    "cross_validate(nmf, nf1, measures=['RMSE', 'MAE'], cv=5, verbose=True)"
   ]
  },
  {
   "cell_type": "markdown",
   "id": "9e9d0764",
   "metadata": {},
   "source": [
    "### (IV) KNN"
   ]
  },
  {
   "cell_type": "markdown",
   "id": "4645613a",
   "metadata": {},
   "source": [
    "With KNN, we will be using Pearson R and MSD Similarity for comparison."
   ]
  },
  {
   "cell_type": "markdown",
   "id": "fc3cdbec",
   "metadata": {},
   "source": [
    "#### (A) KNN - Basic"
   ]
  },
  {
   "cell_type": "code",
   "execution_count": 14,
   "id": "13295c22",
   "metadata": {
    "scrolled": false
   },
   "outputs": [
    {
     "name": "stdout",
     "output_type": "stream",
     "text": [
      "Computing the msd similarity matrix...\n",
      "Done computing similarity matrix.\n",
      "Computing the msd similarity matrix...\n",
      "Done computing similarity matrix.\n",
      "Computing the msd similarity matrix...\n",
      "Done computing similarity matrix.\n",
      "Computing the msd similarity matrix...\n",
      "Done computing similarity matrix.\n",
      "Computing the msd similarity matrix...\n",
      "Done computing similarity matrix.\n",
      "Evaluating RMSE, MAE of algorithm KNNBasic on 5 split(s).\n",
      "\n",
      "                  Fold 1  Fold 2  Fold 3  Fold 4  Fold 5  Mean    Std     \n",
      "RMSE (testset)    1.0221  1.0232  1.0238  1.0222  1.0248  1.0232  0.0010  \n",
      "MAE (testset)     0.7985  0.7991  0.7999  0.7980  0.8007  0.7993  0.0010  \n",
      "Fit time          18.78   24.18   23.61   21.72   21.53   21.96   1.90    \n",
      "Test time         58.78   63.67   59.89   61.76   61.49   61.12   1.67    \n"
     ]
    },
    {
     "data": {
      "text/plain": [
       "{'test_rmse': array([1.02213776, 1.02317002, 1.02379045, 1.022179  , 1.02484034]),\n",
       " 'test_mae': array([0.79853568, 0.79909133, 0.79992801, 0.79804522, 0.80074938]),\n",
       " 'fit_time': (18.779494047164917,\n",
       "  24.17823553085327,\n",
       "  23.61124038696289,\n",
       "  21.72212243080139,\n",
       "  21.526944160461426),\n",
       " 'test_time': (58.7792387008667,\n",
       "  63.666033029556274,\n",
       "  59.893397092819214,\n",
       "  61.757367849349976,\n",
       "  61.48782134056091)}"
      ]
     },
     "execution_count": 14,
     "metadata": {},
     "output_type": "execute_result"
    }
   ],
   "source": [
    "# Run 5-fold cross-validation on msd similarity.\n",
    "cross_validate(knnb, nf1, measures=['RMSE', 'MAE'], cv=5, verbose=True)"
   ]
  },
  {
   "cell_type": "code",
   "execution_count": 18,
   "id": "87242df1",
   "metadata": {
    "scrolled": false
   },
   "outputs": [
    {
     "name": "stdout",
     "output_type": "stream",
     "text": [
      "Computing the pearson similarity matrix...\n",
      "Done computing similarity matrix.\n",
      "Computing the pearson similarity matrix...\n",
      "Done computing similarity matrix.\n",
      "Computing the pearson similarity matrix...\n",
      "Done computing similarity matrix.\n",
      "Computing the pearson similarity matrix...\n",
      "Done computing similarity matrix.\n",
      "Computing the pearson similarity matrix...\n",
      "Done computing similarity matrix.\n",
      "Evaluating RMSE, MAE of algorithm KNNBasic on 5 split(s).\n",
      "\n",
      "                  Fold 1  Fold 2  Fold 3  Fold 4  Fold 5  Mean    Std     \n",
      "RMSE (testset)    1.0451  1.0466  1.0456  1.0447  1.0451  1.0454  0.0006  \n",
      "MAE (testset)     0.8125  0.8142  0.8132  0.8124  0.8125  0.8129  0.0007  \n",
      "Fit time          220.06  353.55  211.75  129.36  134.93  209.93  81.05   \n",
      "Test time         195.26  284.57  256.63  136.49  161.25  206.84  56.01   \n"
     ]
    },
    {
     "data": {
      "text/plain": [
       "{'test_rmse': array([1.04514202, 1.04656892, 1.04557589, 1.04472423, 1.04511904]),\n",
       " 'test_mae': array([0.81250823, 0.81417047, 0.81316282, 0.81236951, 0.81248667]),\n",
       " 'fit_time': (220.05937457084656,\n",
       "  353.5478539466858,\n",
       "  211.74868369102478,\n",
       "  129.36437106132507,\n",
       "  134.93317413330078),\n",
       " 'test_time': (195.26036167144775,\n",
       "  284.57482290267944,\n",
       "  256.6324374675751,\n",
       "  136.48748779296875,\n",
       "  161.25412368774414)}"
      ]
     },
     "execution_count": 18,
     "metadata": {},
     "output_type": "execute_result"
    }
   ],
   "source": [
    "# Run 5-fold cross-validation on pearson r.\n",
    "cross_validate(knnb_pr, nf1, measures=['RMSE', 'MAE'], cv=5, verbose=True)"
   ]
  },
  {
   "cell_type": "markdown",
   "id": "f51dec4b",
   "metadata": {},
   "source": [
    "#### (C) KNN - Baseline"
   ]
  },
  {
   "cell_type": "code",
   "execution_count": 19,
   "id": "2eb63aef",
   "metadata": {},
   "outputs": [
    {
     "name": "stdout",
     "output_type": "stream",
     "text": [
      "Estimating biases using als...\n",
      "Computing the msd similarity matrix...\n",
      "Done computing similarity matrix.\n",
      "Estimating biases using als...\n",
      "Computing the msd similarity matrix...\n",
      "Done computing similarity matrix.\n",
      "Estimating biases using als...\n",
      "Computing the msd similarity matrix...\n",
      "Done computing similarity matrix.\n",
      "Estimating biases using als...\n",
      "Computing the msd similarity matrix...\n",
      "Done computing similarity matrix.\n",
      "Estimating biases using als...\n",
      "Computing the msd similarity matrix...\n",
      "Done computing similarity matrix.\n",
      "Evaluating RMSE, MAE of algorithm KNNBaseline on 5 split(s).\n",
      "\n",
      "                  Fold 1  Fold 2  Fold 3  Fold 4  Fold 5  Mean    Std     \n",
      "RMSE (testset)    0.9639  0.9652  0.9652  0.9664  0.9665  0.9654  0.0009  \n",
      "MAE (testset)     0.7436  0.7444  0.7450  0.7459  0.7461  0.7450  0.0009  \n",
      "Fit time          46.87   47.90   45.60   44.66   43.41   45.69   1.59    \n",
      "Test time         79.70   91.90   81.91   87.96   76.16   83.53   5.68    \n"
     ]
    },
    {
     "data": {
      "text/plain": [
       "{'test_rmse': array([0.96394211, 0.96518892, 0.96523937, 0.96636147, 0.96646048]),\n",
       " 'test_mae': array([0.74358268, 0.74443222, 0.74500407, 0.74593699, 0.74614077]),\n",
       " 'fit_time': (46.86977195739746,\n",
       "  47.90440320968628,\n",
       "  45.595598220825195,\n",
       "  44.659833908081055,\n",
       "  43.41004276275635),\n",
       " 'test_time': (79.70402312278748,\n",
       "  91.89628767967224,\n",
       "  81.90903210639954,\n",
       "  87.96286749839783,\n",
       "  76.1644880771637)}"
      ]
     },
     "execution_count": 19,
     "metadata": {},
     "output_type": "execute_result"
    }
   ],
   "source": [
    "# Run 5-fold cross-validation on msd similarity.\n",
    "cross_validate(knnbo, nf1, measures=['RMSE', 'MAE'], cv=5, verbose=True)"
   ]
  },
  {
   "cell_type": "code",
   "execution_count": 20,
   "id": "579ef7d4",
   "metadata": {},
   "outputs": [
    {
     "name": "stdout",
     "output_type": "stream",
     "text": [
      "Estimating biases using als...\n",
      "Computing the pearson similarity matrix...\n",
      "Done computing similarity matrix.\n",
      "Estimating biases using als...\n",
      "Computing the pearson similarity matrix...\n",
      "Done computing similarity matrix.\n",
      "Estimating biases using als...\n",
      "Computing the pearson similarity matrix...\n",
      "Done computing similarity matrix.\n",
      "Estimating biases using als...\n",
      "Computing the pearson similarity matrix...\n",
      "Done computing similarity matrix.\n",
      "Estimating biases using als...\n",
      "Computing the pearson similarity matrix...\n",
      "Done computing similarity matrix.\n",
      "Evaluating RMSE, MAE of algorithm KNNBaseline on 5 split(s).\n",
      "\n",
      "                  Fold 1  Fold 2  Fold 3  Fold 4  Fold 5  Mean    Std     \n",
      "RMSE (testset)    0.9768  0.9787  0.9766  0.9772  0.9755  0.9770  0.0011  \n",
      "MAE (testset)     0.7501  0.7518  0.7504  0.7501  0.7493  0.7503  0.0008  \n",
      "Fit time          145.98  173.06  142.81  146.60  205.32  162.75  23.91   \n",
      "Test time         228.39  240.44  205.35  178.71  198.50  210.28  21.90   \n"
     ]
    },
    {
     "data": {
      "text/plain": [
       "{'test_rmse': array([0.97678321, 0.97873048, 0.97661375, 0.97715418, 0.97546993]),\n",
       " 'test_mae': array([0.75007629, 0.75178155, 0.75043514, 0.75012476, 0.74932525]),\n",
       " 'fit_time': (145.9770212173462,\n",
       "  173.06050515174866,\n",
       "  142.80761623382568,\n",
       "  146.60282635688782,\n",
       "  205.32131338119507),\n",
       " 'test_time': (228.38552141189575,\n",
       "  240.44156861305237,\n",
       "  205.35053777694702,\n",
       "  178.70879364013672,\n",
       "  198.50252437591553)}"
      ]
     },
     "execution_count": 20,
     "metadata": {},
     "output_type": "execute_result"
    }
   ],
   "source": [
    "# Run 5-fold cross-validation on pearson r.\n",
    "cross_validate(knnbo_pr, nf1, measures=['RMSE', 'MAE'], cv=5, verbose=True)"
   ]
  },
  {
   "cell_type": "markdown",
   "id": "6af46d50",
   "metadata": {},
   "source": [
    "### (V) TensorFlow"
   ]
  },
  {
   "cell_type": "markdown",
   "id": "003288bc",
   "metadata": {},
   "source": [
    "Please refer to Jupyter Notebook 3 of 3 for the codes, as we will be using tensorflow to run. "
   ]
  },
  {
   "cell_type": "markdown",
   "id": "05257741",
   "metadata": {},
   "source": [
    "## 6. Recommendations based on Best 3 RMSE Algorithms"
   ]
  },
  {
   "cell_type": "code",
   "execution_count": 21,
   "id": "41d422e7",
   "metadata": {},
   "outputs": [],
   "source": [
    "# Select a random user\n",
    "user_id = 1499245"
   ]
  },
  {
   "cell_type": "code",
   "execution_count": 22,
   "id": "9a10d481",
   "metadata": {},
   "outputs": [
    {
     "name": "stdout",
     "output_type": "stream",
     "text": [
      "<class 'pandas.core.frame.DataFrame'>\n",
      "RangeIndex: 1000 entries, 0 to 999\n",
      "Data columns (total 6 columns):\n",
      " #   Column        Non-Null Count  Dtype  \n",
      "---  ------        --------------  -----  \n",
      " 0   Unnamed: 0    1000 non-null   int64  \n",
      " 1   index         1000 non-null   int64  \n",
      " 2   movie_id      1000 non-null   int64  \n",
      " 3   count         1000 non-null   float64\n",
      " 4   release_year  1000 non-null   int64  \n",
      " 5   movie_title   1000 non-null   object \n",
      "dtypes: float64(1), int64(4), object(1)\n",
      "memory usage: 47.0+ KB\n"
     ]
    }
   ],
   "source": [
    "# Check movie_df info \n",
    "movie_df.info()"
   ]
  },
  {
   "cell_type": "code",
   "execution_count": 23,
   "id": "a35a17bf",
   "metadata": {},
   "outputs": [
    {
     "data": {
      "text/html": [
       "<div>\n",
       "<style scoped>\n",
       "    .dataframe tbody tr th:only-of-type {\n",
       "        vertical-align: middle;\n",
       "    }\n",
       "\n",
       "    .dataframe tbody tr th {\n",
       "        vertical-align: top;\n",
       "    }\n",
       "\n",
       "    .dataframe thead th {\n",
       "        text-align: right;\n",
       "    }\n",
       "</style>\n",
       "<table border=\"1\" class=\"dataframe\">\n",
       "  <thead>\n",
       "    <tr style=\"text-align: right;\">\n",
       "      <th></th>\n",
       "      <th>count</th>\n",
       "      <th>movie_id</th>\n",
       "      <th>movie_title</th>\n",
       "      <th>release_year</th>\n",
       "    </tr>\n",
       "  </thead>\n",
       "  <tbody>\n",
       "    <tr>\n",
       "      <th>0</th>\n",
       "      <td>20658.0</td>\n",
       "      <td>17169</td>\n",
       "      <td>National Treasure</td>\n",
       "      <td>2004</td>\n",
       "    </tr>\n",
       "    <tr>\n",
       "      <th>1</th>\n",
       "      <td>17521.0</td>\n",
       "      <td>17324</td>\n",
       "      <td>Hitch</td>\n",
       "      <td>2005</td>\n",
       "    </tr>\n",
       "    <tr>\n",
       "      <th>2</th>\n",
       "      <td>16426.0</td>\n",
       "      <td>11812</td>\n",
       "      <td>Million Dollar Baby</td>\n",
       "      <td>2004</td>\n",
       "    </tr>\n",
       "    <tr>\n",
       "      <th>3</th>\n",
       "      <td>15496.0</td>\n",
       "      <td>12966</td>\n",
       "      <td>The Aviator</td>\n",
       "      <td>2004</td>\n",
       "    </tr>\n",
       "    <tr>\n",
       "      <th>4</th>\n",
       "      <td>14850.0</td>\n",
       "      <td>5317</td>\n",
       "      <td>Miss Congeniality</td>\n",
       "      <td>2000</td>\n",
       "    </tr>\n",
       "    <tr>\n",
       "      <th>...</th>\n",
       "      <td>...</td>\n",
       "      <td>...</td>\n",
       "      <td>...</td>\n",
       "      <td>...</td>\n",
       "    </tr>\n",
       "    <tr>\n",
       "      <th>995</th>\n",
       "      <td>1242.0</td>\n",
       "      <td>1709</td>\n",
       "      <td>Clash of the Titans</td>\n",
       "      <td>1981</td>\n",
       "    </tr>\n",
       "    <tr>\n",
       "      <th>996</th>\n",
       "      <td>1240.0</td>\n",
       "      <td>15064</td>\n",
       "      <td>Dangerous Liaisons</td>\n",
       "      <td>1988</td>\n",
       "    </tr>\n",
       "    <tr>\n",
       "      <th>997</th>\n",
       "      <td>1238.0</td>\n",
       "      <td>8295</td>\n",
       "      <td>Holes</td>\n",
       "      <td>2003</td>\n",
       "    </tr>\n",
       "    <tr>\n",
       "      <th>998</th>\n",
       "      <td>1235.0</td>\n",
       "      <td>8413</td>\n",
       "      <td>Girl with a Pearl Earring</td>\n",
       "      <td>2003</td>\n",
       "    </tr>\n",
       "    <tr>\n",
       "      <th>999</th>\n",
       "      <td>1235.0</td>\n",
       "      <td>16325</td>\n",
       "      <td>Planet of the Apes</td>\n",
       "      <td>1968</td>\n",
       "    </tr>\n",
       "  </tbody>\n",
       "</table>\n",
       "<p>1000 rows × 4 columns</p>\n",
       "</div>"
      ],
      "text/plain": [
       "       count  movie_id                movie_title  release_year\n",
       "0    20658.0     17169          National Treasure          2004\n",
       "1    17521.0     17324                      Hitch          2005\n",
       "2    16426.0     11812        Million Dollar Baby          2004\n",
       "3    15496.0     12966                The Aviator          2004\n",
       "4    14850.0      5317          Miss Congeniality          2000\n",
       "..       ...       ...                        ...           ...\n",
       "995   1242.0      1709        Clash of the Titans          1981\n",
       "996   1240.0     15064         Dangerous Liaisons          1988\n",
       "997   1238.0      8295                      Holes          2003\n",
       "998   1235.0      8413  Girl with a Pearl Earring          2003\n",
       "999   1235.0     16325         Planet of the Apes          1968\n",
       "\n",
       "[1000 rows x 4 columns]"
      ]
     },
     "execution_count": 23,
     "metadata": {},
     "output_type": "execute_result"
    }
   ],
   "source": [
    "# Based on above info, to take the necessary columns \n",
    "movie_c = movie_df[['count', 'movie_id', 'movie_title', 'release_year']]\n",
    "movie_c"
   ]
  },
  {
   "cell_type": "code",
   "execution_count": 24,
   "id": "5d3c542a",
   "metadata": {},
   "outputs": [],
   "source": [
    "# Using Surprise Library, to build the whole nf1 dataset as the trainset \n",
    "trainset = nf1.build_full_trainset()"
   ]
  },
  {
   "cell_type": "markdown",
   "id": "80f13c74",
   "metadata": {},
   "source": [
    "## (I) BaselineOnly "
   ]
  },
  {
   "cell_type": "code",
   "execution_count": 25,
   "id": "019fb5c2",
   "metadata": {},
   "outputs": [
    {
     "name": "stdout",
     "output_type": "stream",
     "text": [
      "Estimating biases using als...\n"
     ]
    },
    {
     "data": {
      "text/plain": [
       "<surprise.prediction_algorithms.baseline_only.BaselineOnly at 0x20c16d24400>"
      ]
     },
     "execution_count": 25,
     "metadata": {},
     "output_type": "execute_result"
    }
   ],
   "source": [
    "# fit the trainset to BaselineOnly Model\n",
    "bo.fit(trainset)"
   ]
  },
  {
   "cell_type": "code",
   "execution_count": 26,
   "id": "999a984f",
   "metadata": {
    "scrolled": true
   },
   "outputs": [
    {
     "data": {
      "text/html": [
       "<div>\n",
       "<style scoped>\n",
       "    .dataframe tbody tr th:only-of-type {\n",
       "        vertical-align: middle;\n",
       "    }\n",
       "\n",
       "    .dataframe tbody tr th {\n",
       "        vertical-align: top;\n",
       "    }\n",
       "\n",
       "    .dataframe thead th {\n",
       "        text-align: right;\n",
       "    }\n",
       "</style>\n",
       "<table border=\"1\" class=\"dataframe\">\n",
       "  <thead>\n",
       "    <tr style=\"text-align: right;\">\n",
       "      <th></th>\n",
       "      <th>count</th>\n",
       "      <th>movie_id</th>\n",
       "      <th>movie_title</th>\n",
       "      <th>release_year</th>\n",
       "      <th>est_score</th>\n",
       "    </tr>\n",
       "  </thead>\n",
       "  <tbody>\n",
       "    <tr>\n",
       "      <th>278</th>\n",
       "      <td>3862.0</td>\n",
       "      <td>6736</td>\n",
       "      <td>Robots</td>\n",
       "      <td>2005</td>\n",
       "      <td>4.450964</td>\n",
       "    </tr>\n",
       "    <tr>\n",
       "      <th>127</th>\n",
       "      <td>5866.0</td>\n",
       "      <td>8764</td>\n",
       "      <td>Happy Gilmore</td>\n",
       "      <td>1996</td>\n",
       "      <td>4.232660</td>\n",
       "    </tr>\n",
       "    <tr>\n",
       "      <th>839</th>\n",
       "      <td>1502.0</td>\n",
       "      <td>5727</td>\n",
       "      <td>The Last Starfighter</td>\n",
       "      <td>1984</td>\n",
       "      <td>4.228760</td>\n",
       "    </tr>\n",
       "    <tr>\n",
       "      <th>394</th>\n",
       "      <td>3007.0</td>\n",
       "      <td>4545</td>\n",
       "      <td>Dances With Wolves: Special Edition</td>\n",
       "      <td>1990</td>\n",
       "      <td>4.127354</td>\n",
       "    </tr>\n",
       "    <tr>\n",
       "      <th>981</th>\n",
       "      <td>1261.0</td>\n",
       "      <td>8</td>\n",
       "      <td>What the #$*! Do We Know!?</td>\n",
       "      <td>2004</td>\n",
       "      <td>4.057638</td>\n",
       "    </tr>\n",
       "    <tr>\n",
       "      <th>869</th>\n",
       "      <td>1434.0</td>\n",
       "      <td>14602</td>\n",
       "      <td>Sabrina</td>\n",
       "      <td>1995</td>\n",
       "      <td>4.029759</td>\n",
       "    </tr>\n",
       "    <tr>\n",
       "      <th>303</th>\n",
       "      <td>3719.0</td>\n",
       "      <td>15471</td>\n",
       "      <td>Phone Booth</td>\n",
       "      <td>2003</td>\n",
       "      <td>4.028324</td>\n",
       "    </tr>\n",
       "    <tr>\n",
       "      <th>484</th>\n",
       "      <td>2428.0</td>\n",
       "      <td>2743</td>\n",
       "      <td>The Pianist</td>\n",
       "      <td>2002</td>\n",
       "      <td>4.027078</td>\n",
       "    </tr>\n",
       "    <tr>\n",
       "      <th>337</th>\n",
       "      <td>3401.0</td>\n",
       "      <td>14185</td>\n",
       "      <td>Mary Poppins</td>\n",
       "      <td>1964</td>\n",
       "      <td>3.999137</td>\n",
       "    </tr>\n",
       "    <tr>\n",
       "      <th>998</th>\n",
       "      <td>1235.0</td>\n",
       "      <td>8413</td>\n",
       "      <td>Girl with a Pearl Earring</td>\n",
       "      <td>2003</td>\n",
       "      <td>3.991943</td>\n",
       "    </tr>\n",
       "  </tbody>\n",
       "</table>\n",
       "</div>"
      ],
      "text/plain": [
       "      count  movie_id                          movie_title  release_year  \\\n",
       "278  3862.0      6736                               Robots          2005   \n",
       "127  5866.0      8764                        Happy Gilmore          1996   \n",
       "839  1502.0      5727                 The Last Starfighter          1984   \n",
       "394  3007.0      4545  Dances With Wolves: Special Edition          1990   \n",
       "981  1261.0         8           What the #$*! Do We Know!?          2004   \n",
       "869  1434.0     14602                              Sabrina          1995   \n",
       "303  3719.0     15471                          Phone Booth          2003   \n",
       "484  2428.0      2743                          The Pianist          2002   \n",
       "337  3401.0     14185                         Mary Poppins          1964   \n",
       "998  1235.0      8413            Girl with a Pearl Earring          2003   \n",
       "\n",
       "     est_score  \n",
       "278   4.450964  \n",
       "127   4.232660  \n",
       "839   4.228760  \n",
       "394   4.127354  \n",
       "981   4.057638  \n",
       "869   4.029759  \n",
       "303   4.028324  \n",
       "484   4.027078  \n",
       "337   3.999137  \n",
       "998   3.991943  "
      ]
     },
     "execution_count": 26,
     "metadata": {},
     "output_type": "execute_result"
    }
   ],
   "source": [
    "# create a copy of movie_c dataframe purely for baseline, so that the subsequent files will not be affected \n",
    "bo_t = movie_c.copy(deep=True)\n",
    "\n",
    "# Additional column on the estimated score based on the model's prediction for this user\n",
    "bo_t['est_score'] = bo_t['movie_id'].apply(lambda x: bo.predict(user_id, x).est)\n",
    "\n",
    "# sort the estimated scores, to view the top 10 movies that we can recommend to user to watch \n",
    "bo_t = bo_t.sort_values(by=['est_score'], ascending=False)\n",
    "bo_t.head(10)"
   ]
  },
  {
   "cell_type": "markdown",
   "id": "baae24a2",
   "metadata": {},
   "source": [
    "## (II) SVD"
   ]
  },
  {
   "cell_type": "code",
   "execution_count": 27,
   "id": "7bf8d3ae",
   "metadata": {},
   "outputs": [
    {
     "data": {
      "text/plain": [
       "<surprise.prediction_algorithms.matrix_factorization.SVD at 0x20c16d24160>"
      ]
     },
     "execution_count": 27,
     "metadata": {},
     "output_type": "execute_result"
    }
   ],
   "source": [
    "# fit the trainset to SVD Model\n",
    "svd.fit(trainset)"
   ]
  },
  {
   "cell_type": "code",
   "execution_count": 28,
   "id": "3855ea70",
   "metadata": {},
   "outputs": [
    {
     "data": {
      "text/html": [
       "<div>\n",
       "<style scoped>\n",
       "    .dataframe tbody tr th:only-of-type {\n",
       "        vertical-align: middle;\n",
       "    }\n",
       "\n",
       "    .dataframe tbody tr th {\n",
       "        vertical-align: top;\n",
       "    }\n",
       "\n",
       "    .dataframe thead th {\n",
       "        text-align: right;\n",
       "    }\n",
       "</style>\n",
       "<table border=\"1\" class=\"dataframe\">\n",
       "  <thead>\n",
       "    <tr style=\"text-align: right;\">\n",
       "      <th></th>\n",
       "      <th>count</th>\n",
       "      <th>movie_id</th>\n",
       "      <th>movie_title</th>\n",
       "      <th>release_year</th>\n",
       "      <th>est_score</th>\n",
       "    </tr>\n",
       "  </thead>\n",
       "  <tbody>\n",
       "    <tr>\n",
       "      <th>278</th>\n",
       "      <td>3862.0</td>\n",
       "      <td>6736</td>\n",
       "      <td>Robots</td>\n",
       "      <td>2005</td>\n",
       "      <td>4.572724</td>\n",
       "    </tr>\n",
       "    <tr>\n",
       "      <th>839</th>\n",
       "      <td>1502.0</td>\n",
       "      <td>5727</td>\n",
       "      <td>The Last Starfighter</td>\n",
       "      <td>1984</td>\n",
       "      <td>4.328896</td>\n",
       "    </tr>\n",
       "    <tr>\n",
       "      <th>127</th>\n",
       "      <td>5866.0</td>\n",
       "      <td>8764</td>\n",
       "      <td>Happy Gilmore</td>\n",
       "      <td>1996</td>\n",
       "      <td>4.265021</td>\n",
       "    </tr>\n",
       "    <tr>\n",
       "      <th>394</th>\n",
       "      <td>3007.0</td>\n",
       "      <td>4545</td>\n",
       "      <td>Dances With Wolves: Special Edition</td>\n",
       "      <td>1990</td>\n",
       "      <td>4.219067</td>\n",
       "    </tr>\n",
       "    <tr>\n",
       "      <th>869</th>\n",
       "      <td>1434.0</td>\n",
       "      <td>14602</td>\n",
       "      <td>Sabrina</td>\n",
       "      <td>1995</td>\n",
       "      <td>4.107465</td>\n",
       "    </tr>\n",
       "    <tr>\n",
       "      <th>337</th>\n",
       "      <td>3401.0</td>\n",
       "      <td>14185</td>\n",
       "      <td>Mary Poppins</td>\n",
       "      <td>1964</td>\n",
       "      <td>4.085740</td>\n",
       "    </tr>\n",
       "    <tr>\n",
       "      <th>981</th>\n",
       "      <td>1261.0</td>\n",
       "      <td>8</td>\n",
       "      <td>What the #$*! Do We Know!?</td>\n",
       "      <td>2004</td>\n",
       "      <td>4.060704</td>\n",
       "    </tr>\n",
       "    <tr>\n",
       "      <th>300</th>\n",
       "      <td>3729.0</td>\n",
       "      <td>14670</td>\n",
       "      <td>Batman</td>\n",
       "      <td>1989</td>\n",
       "      <td>4.056289</td>\n",
       "    </tr>\n",
       "    <tr>\n",
       "      <th>484</th>\n",
       "      <td>2428.0</td>\n",
       "      <td>2743</td>\n",
       "      <td>The Pianist</td>\n",
       "      <td>2002</td>\n",
       "      <td>4.048302</td>\n",
       "    </tr>\n",
       "    <tr>\n",
       "      <th>303</th>\n",
       "      <td>3719.0</td>\n",
       "      <td>15471</td>\n",
       "      <td>Phone Booth</td>\n",
       "      <td>2003</td>\n",
       "      <td>4.046744</td>\n",
       "    </tr>\n",
       "  </tbody>\n",
       "</table>\n",
       "</div>"
      ],
      "text/plain": [
       "      count  movie_id                          movie_title  release_year  \\\n",
       "278  3862.0      6736                               Robots          2005   \n",
       "839  1502.0      5727                 The Last Starfighter          1984   \n",
       "127  5866.0      8764                        Happy Gilmore          1996   \n",
       "394  3007.0      4545  Dances With Wolves: Special Edition          1990   \n",
       "869  1434.0     14602                              Sabrina          1995   \n",
       "337  3401.0     14185                         Mary Poppins          1964   \n",
       "981  1261.0         8           What the #$*! Do We Know!?          2004   \n",
       "300  3729.0     14670                               Batman          1989   \n",
       "484  2428.0      2743                          The Pianist          2002   \n",
       "303  3719.0     15471                          Phone Booth          2003   \n",
       "\n",
       "     est_score  \n",
       "278   4.572724  \n",
       "839   4.328896  \n",
       "127   4.265021  \n",
       "394   4.219067  \n",
       "869   4.107465  \n",
       "337   4.085740  \n",
       "981   4.060704  \n",
       "300   4.056289  \n",
       "484   4.048302  \n",
       "303   4.046744  "
      ]
     },
     "execution_count": 28,
     "metadata": {},
     "output_type": "execute_result"
    }
   ],
   "source": [
    "# create a copy of movie_c dataframe purely for svd, so that the subsequent files will not be affected \n",
    "svd_t = movie_c.copy(deep=True)\n",
    "\n",
    "# Additional column on the estimated score based on the model's prediction for this user\n",
    "svd_t['est_score'] = svd_t['movie_id'].apply(lambda x: svd.predict(user_id, x).est)\n",
    "\n",
    "# sort the estimated scores, to view the top 10 movies that we can recommend to user to watch \n",
    "svd_t = svd_t.sort_values(by=['est_score'], ascending=False)\n",
    "svd_t.head(10)"
   ]
  },
  {
   "cell_type": "markdown",
   "id": "3dc12f81",
   "metadata": {},
   "source": [
    "## (III) k-Nearest Neighbor (Baseline)"
   ]
  },
  {
   "cell_type": "code",
   "execution_count": 29,
   "id": "6f935c43",
   "metadata": {},
   "outputs": [
    {
     "name": "stdout",
     "output_type": "stream",
     "text": [
      "Estimating biases using als...\n",
      "Computing the msd similarity matrix...\n",
      "Done computing similarity matrix.\n"
     ]
    },
    {
     "data": {
      "text/plain": [
       "<surprise.prediction_algorithms.knns.KNNBaseline at 0x20c16d24af0>"
      ]
     },
     "execution_count": 29,
     "metadata": {},
     "output_type": "execute_result"
    }
   ],
   "source": [
    "# fit the trainset to k-nearest neighbor baseline Model\n",
    "knnbo.fit(trainset)"
   ]
  },
  {
   "cell_type": "code",
   "execution_count": 30,
   "id": "79ef98c9",
   "metadata": {},
   "outputs": [
    {
     "data": {
      "text/html": [
       "<div>\n",
       "<style scoped>\n",
       "    .dataframe tbody tr th:only-of-type {\n",
       "        vertical-align: middle;\n",
       "    }\n",
       "\n",
       "    .dataframe tbody tr th {\n",
       "        vertical-align: top;\n",
       "    }\n",
       "\n",
       "    .dataframe thead th {\n",
       "        text-align: right;\n",
       "    }\n",
       "</style>\n",
       "<table border=\"1\" class=\"dataframe\">\n",
       "  <thead>\n",
       "    <tr style=\"text-align: right;\">\n",
       "      <th></th>\n",
       "      <th>count</th>\n",
       "      <th>movie_id</th>\n",
       "      <th>movie_title</th>\n",
       "      <th>release_year</th>\n",
       "      <th>est_score</th>\n",
       "    </tr>\n",
       "  </thead>\n",
       "  <tbody>\n",
       "    <tr>\n",
       "      <th>278</th>\n",
       "      <td>3862.0</td>\n",
       "      <td>6736</td>\n",
       "      <td>Robots</td>\n",
       "      <td>2005</td>\n",
       "      <td>4.572724</td>\n",
       "    </tr>\n",
       "    <tr>\n",
       "      <th>839</th>\n",
       "      <td>1502.0</td>\n",
       "      <td>5727</td>\n",
       "      <td>The Last Starfighter</td>\n",
       "      <td>1984</td>\n",
       "      <td>4.328896</td>\n",
       "    </tr>\n",
       "    <tr>\n",
       "      <th>127</th>\n",
       "      <td>5866.0</td>\n",
       "      <td>8764</td>\n",
       "      <td>Happy Gilmore</td>\n",
       "      <td>1996</td>\n",
       "      <td>4.265021</td>\n",
       "    </tr>\n",
       "    <tr>\n",
       "      <th>394</th>\n",
       "      <td>3007.0</td>\n",
       "      <td>4545</td>\n",
       "      <td>Dances With Wolves: Special Edition</td>\n",
       "      <td>1990</td>\n",
       "      <td>4.219067</td>\n",
       "    </tr>\n",
       "    <tr>\n",
       "      <th>869</th>\n",
       "      <td>1434.0</td>\n",
       "      <td>14602</td>\n",
       "      <td>Sabrina</td>\n",
       "      <td>1995</td>\n",
       "      <td>4.107465</td>\n",
       "    </tr>\n",
       "    <tr>\n",
       "      <th>337</th>\n",
       "      <td>3401.0</td>\n",
       "      <td>14185</td>\n",
       "      <td>Mary Poppins</td>\n",
       "      <td>1964</td>\n",
       "      <td>4.085740</td>\n",
       "    </tr>\n",
       "    <tr>\n",
       "      <th>981</th>\n",
       "      <td>1261.0</td>\n",
       "      <td>8</td>\n",
       "      <td>What the #$*! Do We Know!?</td>\n",
       "      <td>2004</td>\n",
       "      <td>4.060704</td>\n",
       "    </tr>\n",
       "    <tr>\n",
       "      <th>300</th>\n",
       "      <td>3729.0</td>\n",
       "      <td>14670</td>\n",
       "      <td>Batman</td>\n",
       "      <td>1989</td>\n",
       "      <td>4.056289</td>\n",
       "    </tr>\n",
       "    <tr>\n",
       "      <th>484</th>\n",
       "      <td>2428.0</td>\n",
       "      <td>2743</td>\n",
       "      <td>The Pianist</td>\n",
       "      <td>2002</td>\n",
       "      <td>4.048302</td>\n",
       "    </tr>\n",
       "    <tr>\n",
       "      <th>303</th>\n",
       "      <td>3719.0</td>\n",
       "      <td>15471</td>\n",
       "      <td>Phone Booth</td>\n",
       "      <td>2003</td>\n",
       "      <td>4.046744</td>\n",
       "    </tr>\n",
       "  </tbody>\n",
       "</table>\n",
       "</div>"
      ],
      "text/plain": [
       "      count  movie_id                          movie_title  release_year  \\\n",
       "278  3862.0      6736                               Robots          2005   \n",
       "839  1502.0      5727                 The Last Starfighter          1984   \n",
       "127  5866.0      8764                        Happy Gilmore          1996   \n",
       "394  3007.0      4545  Dances With Wolves: Special Edition          1990   \n",
       "869  1434.0     14602                              Sabrina          1995   \n",
       "337  3401.0     14185                         Mary Poppins          1964   \n",
       "981  1261.0         8           What the #$*! Do We Know!?          2004   \n",
       "300  3729.0     14670                               Batman          1989   \n",
       "484  2428.0      2743                          The Pianist          2002   \n",
       "303  3719.0     15471                          Phone Booth          2003   \n",
       "\n",
       "     est_score  \n",
       "278   4.572724  \n",
       "839   4.328896  \n",
       "127   4.265021  \n",
       "394   4.219067  \n",
       "869   4.107465  \n",
       "337   4.085740  \n",
       "981   4.060704  \n",
       "300   4.056289  \n",
       "484   4.048302  \n",
       "303   4.046744  "
      ]
     },
     "execution_count": 30,
     "metadata": {},
     "output_type": "execute_result"
    }
   ],
   "source": [
    "# create a copy of movie_c dataframe purely for knn baseline, so that the subsequent files will not be affected \n",
    "knnbo_t = movie_c.copy(deep=True)\n",
    "\n",
    "# Additional column on the estimated score based on the model's prediction for this user\n",
    "knnbo_t['est_score'] = knnbo_t['movie_id'].apply(lambda x: svd.predict(user_id, x).est)\n",
    "\n",
    "# sort the estimated scores, to view the top 10 movies that we can recommend to user to watch \n",
    "knnbo_t = knnbo_t.sort_values(by=['est_score'], ascending=False)\n",
    "knnbo_t.head(10)"
   ]
  },
  {
   "cell_type": "markdown",
   "id": "8db3a1e0",
   "metadata": {},
   "source": [
    "## Additional RMSE Run for Different Data Size (only for best 3 algo)"
   ]
  },
  {
   "cell_type": "markdown",
   "id": "a71f7330",
   "metadata": {},
   "source": [
    "### (I) Random 10 Million data from Jun to Dec 2005"
   ]
  },
  {
   "cell_type": "code",
   "execution_count": 31,
   "id": "48ffe091",
   "metadata": {},
   "outputs": [],
   "source": [
    "# load the dataset file with 10 million data\n",
    "nf_10 =  pd.read_csv('2005-d3.csv')"
   ]
  },
  {
   "cell_type": "code",
   "execution_count": 32,
   "id": "5ac4c1e1",
   "metadata": {},
   "outputs": [],
   "source": [
    "# Using the Surprise Library to read the dataset\n",
    "\n",
    "reader = Reader(rating_scale=(1,5))\n",
    "nf_10 = Dataset.load_from_df(nf_10[['movie_id', 'user_id', 'rating']], reader)"
   ]
  },
  {
   "cell_type": "code",
   "execution_count": 33,
   "id": "8ae21cb2",
   "metadata": {},
   "outputs": [
    {
     "name": "stdout",
     "output_type": "stream",
     "text": [
      "Estimating biases using als...\n",
      "Estimating biases using als...\n",
      "Estimating biases using als...\n",
      "Estimating biases using als...\n",
      "Estimating biases using als...\n",
      "Evaluating RMSE, MAE of algorithm BaselineOnly on 5 split(s).\n",
      "\n",
      "                  Fold 1  Fold 2  Fold 3  Fold 4  Fold 5  Mean    Std     \n",
      "RMSE (testset)    0.9429  0.9404  0.9415  0.9414  0.9414  0.9415  0.0008  \n",
      "MAE (testset)     0.7413  0.7395  0.7402  0.7405  0.7402  0.7403  0.0006  \n",
      "Fit time          39.73   44.32   44.66   44.95   44.94   43.72   2.01    \n",
      "Test time         19.00   19.11   17.28   18.79   17.13   18.26   0.87    \n"
     ]
    },
    {
     "data": {
      "text/plain": [
       "{'test_rmse': array([0.94285681, 0.94036919, 0.9414918 , 0.9413956 , 0.94141412]),\n",
       " 'test_mae': array([0.741325  , 0.73948938, 0.7401915 , 0.74050056, 0.74020267]),\n",
       " 'fit_time': (39.72959303855896,\n",
       "  44.31876587867737,\n",
       "  44.660983085632324,\n",
       "  44.94636130332947,\n",
       "  44.940850496292114),\n",
       " 'test_time': (19.001505851745605,\n",
       "  19.107502460479736,\n",
       "  17.281549215316772,\n",
       "  18.78510808944702,\n",
       "  17.13228678703308)}"
      ]
     },
     "execution_count": 33,
     "metadata": {},
     "output_type": "execute_result"
    }
   ],
   "source": [
    "# Run 5-fold cross-validation and print results.\n",
    "cross_validate(bo, nf_10, measures=['RMSE', 'MAE'], cv=5, verbose=True)"
   ]
  },
  {
   "cell_type": "code",
   "execution_count": 34,
   "id": "8cde4b94",
   "metadata": {},
   "outputs": [
    {
     "name": "stdout",
     "output_type": "stream",
     "text": [
      "Evaluating RMSE, MAE of algorithm SVD on 5 split(s).\n",
      "\n",
      "                  Fold 1  Fold 2  Fold 3  Fold 4  Fold 5  Mean    Std     \n",
      "RMSE (testset)    0.9322  0.9329  0.9328  0.9330  0.9334  0.9329  0.0004  \n",
      "MAE (testset)     0.7266  0.7266  0.7267  0.7265  0.7278  0.7268  0.0005  \n",
      "Fit time          372.99  377.52  377.98  377.35  378.02  376.77  1.91    \n",
      "Test time         23.68   21.11   23.57   23.97   23.77   23.22   1.06    \n"
     ]
    },
    {
     "data": {
      "text/plain": [
       "{'test_rmse': array([0.93220402, 0.93292919, 0.93284324, 0.93296853, 0.93343069]),\n",
       " 'test_mae': array([0.72655332, 0.72664649, 0.72671354, 0.72650715, 0.72776392]),\n",
       " 'fit_time': (372.98564434051514,\n",
       "  377.5158200263977,\n",
       "  377.9786660671234,\n",
       "  377.34541058540344,\n",
       "  378.01528310775757),\n",
       " 'test_time': (23.682081937789917,\n",
       "  21.10678482055664,\n",
       "  23.565629959106445,\n",
       "  23.970784425735474,\n",
       "  23.768656730651855)}"
      ]
     },
     "execution_count": 34,
     "metadata": {},
     "output_type": "execute_result"
    }
   ],
   "source": [
    "# Run 5-fold cross-validation and print results.\n",
    "cross_validate(svd, nf_10, measures=['RMSE', 'MAE'], cv=5, verbose=True)"
   ]
  },
  {
   "cell_type": "code",
   "execution_count": 35,
   "id": "6f6cec77",
   "metadata": {},
   "outputs": [
    {
     "name": "stdout",
     "output_type": "stream",
     "text": [
      "Estimating biases using als...\n",
      "Computing the msd similarity matrix...\n",
      "Done computing similarity matrix.\n",
      "Estimating biases using als...\n",
      "Computing the msd similarity matrix...\n",
      "Done computing similarity matrix.\n",
      "Estimating biases using als...\n",
      "Computing the msd similarity matrix...\n",
      "Done computing similarity matrix.\n",
      "Estimating biases using als...\n",
      "Computing the msd similarity matrix...\n",
      "Done computing similarity matrix.\n",
      "Estimating biases using als...\n",
      "Computing the msd similarity matrix...\n",
      "Done computing similarity matrix.\n",
      "Evaluating RMSE, MAE of algorithm KNNBaseline on 5 split(s).\n",
      "\n",
      "                  Fold 1  Fold 2  Fold 3  Fold 4  Fold 5  Mean    Std     \n",
      "RMSE (testset)    0.9365  0.9376  0.9370  0.9378  0.9373  0.9372  0.0004  \n",
      "MAE (testset)     0.7240  0.7247  0.7244  0.7248  0.7245  0.7245  0.0003  \n",
      "Fit time          86.60   93.95   94.36   93.19   93.26   92.27   2.87    \n",
      "Test time         215.78  220.59  221.03  218.15  218.24  218.76  1.90    \n"
     ]
    },
    {
     "data": {
      "text/plain": [
       "{'test_rmse': array([0.93649304, 0.93757162, 0.93702524, 0.93776381, 0.93730443]),\n",
       " 'test_mae': array([0.72398942, 0.72467962, 0.72439653, 0.7248102 , 0.72450949]),\n",
       " 'fit_time': (86.59847044944763,\n",
       "  93.94507384300232,\n",
       "  94.36499238014221,\n",
       "  93.1896824836731,\n",
       "  93.25578022003174),\n",
       " 'test_time': (215.78409957885742,\n",
       "  220.59057450294495,\n",
       "  221.03189492225647,\n",
       "  218.14552474021912,\n",
       "  218.2447862625122)}"
      ]
     },
     "execution_count": 35,
     "metadata": {},
     "output_type": "execute_result"
    }
   ],
   "source": [
    "# Run 5-fold cross-validation on msd similarity.\n",
    "cross_validate(knnbo, nf_10, measures=['RMSE', 'MAE'], cv=5, verbose=True)"
   ]
  },
  {
   "cell_type": "markdown",
   "id": "ba24f691",
   "metadata": {},
   "source": [
    "## == END =="
   ]
  }
 ],
 "metadata": {
  "kernelspec": {
   "display_name": "Python 3",
   "language": "python",
   "name": "python3"
  },
  "language_info": {
   "codemirror_mode": {
    "name": "ipython",
    "version": 3
   },
   "file_extension": ".py",
   "mimetype": "text/x-python",
   "name": "python",
   "nbconvert_exporter": "python",
   "pygments_lexer": "ipython3",
   "version": "3.8.8"
  }
 },
 "nbformat": 4,
 "nbformat_minor": 5
}
