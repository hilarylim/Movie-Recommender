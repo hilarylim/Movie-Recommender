{
 "cells": [
  {
   "cell_type": "markdown",
   "id": "99a116ce",
   "metadata": {},
   "source": [
    "# Capstone (1/3) - Netflix Recommender"
   ]
  },
  {
   "cell_type": "markdown",
   "id": "cbab691f",
   "metadata": {},
   "source": [
    "## Navigation: \n",
    "\n",
    "* File (1/3) - EDA of data files and charts of the data\n",
    "\n",
    "* File (2/3) - Recommender System using Surprise Library and Recommendations \n",
    "\n",
    "* File (3/3) - Recommender System using Tensorflow and Verdict"
   ]
  },
  {
   "cell_type": "markdown",
   "id": "523711bc",
   "metadata": {},
   "source": [
    "## 1. Import Libraries"
   ]
  },
  {
   "cell_type": "code",
   "execution_count": 1,
   "id": "189226e9",
   "metadata": {},
   "outputs": [],
   "source": [
    "import numpy as np\n",
    "import pandas as pd\n",
    "import matplotlib.pyplot as plt\n",
    "\n",
    "from wordcloud import WordCloud, STOPWORDS\n",
    "from sklearn.model_selection import train_test_split "
   ]
  },
  {
   "cell_type": "markdown",
   "id": "7e473205",
   "metadata": {},
   "source": [
    "## 2. Dataset 1 - Financial & Subscriber Details"
   ]
  },
  {
   "cell_type": "markdown",
   "id": "6c1af7a5",
   "metadata": {},
   "source": [
    "Data extracted directly from Financial Statements \\\n",
    "(URL: https://ir.netflix.net/investor-news-and-events/investor-events/default.aspx)"
   ]
  },
  {
   "cell_type": "markdown",
   "id": "7763f601",
   "metadata": {},
   "source": [
    "File consists of the following information:  \n",
    "* Area: \\\n",
    "    UCAN = United States and Canada; \\\n",
    "    EMEA = Europe, Middle East and Africa; \\\n",
    "    LATAM = Latin America; & \\\n",
    "    APAC = Asia Pacific\n",
    "* Quarter (Qtr): \\\n",
    "    1 = Jan-Mar \\\n",
    "    2 = Apr-Jun \\\n",
    "    3 = Jul-Sep \\\n",
    "    4 = Oct-Dec\n",
    "* Year -- 2017 to 2021 (Mar)\n",
    "* Revenue -- in US$'mil\n",
    "* Subscribers -- in millions"
   ]
  },
  {
   "cell_type": "code",
   "execution_count": 2,
   "id": "6d7cab58",
   "metadata": {},
   "outputs": [],
   "source": [
    "# load Revenue & Subscriber File\n",
    "fin_data =  pd.read_csv('NetflixConsolData_V3.csv')"
   ]
  },
  {
   "cell_type": "code",
   "execution_count": 3,
   "id": "88052c12",
   "metadata": {},
   "outputs": [
    {
     "data": {
      "text/html": [
       "<div>\n",
       "<style scoped>\n",
       "    .dataframe tbody tr th:only-of-type {\n",
       "        vertical-align: middle;\n",
       "    }\n",
       "\n",
       "    .dataframe tbody tr th {\n",
       "        vertical-align: top;\n",
       "    }\n",
       "\n",
       "    .dataframe thead th {\n",
       "        text-align: right;\n",
       "    }\n",
       "</style>\n",
       "<table border=\"1\" class=\"dataframe\">\n",
       "  <thead>\n",
       "    <tr style=\"text-align: right;\">\n",
       "      <th></th>\n",
       "      <th>Area</th>\n",
       "      <th>Qtr</th>\n",
       "      <th>Year</th>\n",
       "      <th>Revenue</th>\n",
       "      <th>Subscribers</th>\n",
       "    </tr>\n",
       "  </thead>\n",
       "  <tbody>\n",
       "    <tr>\n",
       "      <th>0</th>\n",
       "      <td>United States and Canada</td>\n",
       "      <td>1</td>\n",
       "      <td>2017</td>\n",
       "      <td>1586</td>\n",
       "      <td>55</td>\n",
       "    </tr>\n",
       "    <tr>\n",
       "      <th>1</th>\n",
       "      <td>Europe,  Middle East and Africa</td>\n",
       "      <td>1</td>\n",
       "      <td>2017</td>\n",
       "      <td>482</td>\n",
       "      <td>20</td>\n",
       "    </tr>\n",
       "    <tr>\n",
       "      <th>2</th>\n",
       "      <td>Latin America</td>\n",
       "      <td>1</td>\n",
       "      <td>2017</td>\n",
       "      <td>331</td>\n",
       "      <td>15</td>\n",
       "    </tr>\n",
       "    <tr>\n",
       "      <th>3</th>\n",
       "      <td>Asia-Pacific</td>\n",
       "      <td>1</td>\n",
       "      <td>2017</td>\n",
       "      <td>116</td>\n",
       "      <td>5</td>\n",
       "    </tr>\n",
       "    <tr>\n",
       "      <th>4</th>\n",
       "      <td>United States and Canada</td>\n",
       "      <td>2</td>\n",
       "      <td>2017</td>\n",
       "      <td>1624</td>\n",
       "      <td>56</td>\n",
       "    </tr>\n",
       "  </tbody>\n",
       "</table>\n",
       "</div>"
      ],
      "text/plain": [
       "                              Area  Qtr  Year   Revenue    Subscribers \n",
       "0         United States and Canada    1  2017       1586             55\n",
       "1  Europe,  Middle East and Africa    1  2017        482             20\n",
       "2                    Latin America    1  2017        331             15\n",
       "3                     Asia-Pacific    1  2017        116              5\n",
       "4         United States and Canada    2  2017       1624             56"
      ]
     },
     "execution_count": 3,
     "metadata": {},
     "output_type": "execute_result"
    }
   ],
   "source": [
    "# check the data\n",
    "fin_data.head()"
   ]
  },
  {
   "cell_type": "code",
   "execution_count": 4,
   "id": "eabde728",
   "metadata": {},
   "outputs": [
    {
     "data": {
      "text/plain": [
       "Index(['Area', 'Qtr', 'Year', ' Revenue ', ' Subscribers '], dtype='object')"
      ]
     },
     "execution_count": 4,
     "metadata": {},
     "output_type": "execute_result"
    }
   ],
   "source": [
    "# Print the column names\n",
    "fin_data.columns"
   ]
  },
  {
   "cell_type": "code",
   "execution_count": 5,
   "id": "b32951ab",
   "metadata": {},
   "outputs": [],
   "source": [
    "# Rename the column names & removing excessive spaces\n",
    "fin_data.rename(columns={'Area': 'Region', ' Revenue ': 'Revenue', ' Subscribers ':'Subscribers'}, inplace=True)"
   ]
  },
  {
   "cell_type": "code",
   "execution_count": 6,
   "id": "1ab74fd0",
   "metadata": {},
   "outputs": [],
   "source": [
    "# Replace the Area into Region (per Netflix Financial Statements) \n",
    "fin_data.replace({'United States and Canada':'UCAN', 'Europe,  Middle East and Africa': 'EMEA',\n",
    "       'Latin America': 'LATAM', 'Asia-Pacific': 'APAC'}, inplace=True)"
   ]
  },
  {
   "cell_type": "code",
   "execution_count": 7,
   "id": "b508a7b1",
   "metadata": {},
   "outputs": [
    {
     "name": "stdout",
     "output_type": "stream",
     "text": [
      "<class 'pandas.core.frame.DataFrame'>\n",
      "RangeIndex: 68 entries, 0 to 67\n",
      "Data columns (total 5 columns):\n",
      " #   Column       Non-Null Count  Dtype \n",
      "---  ------       --------------  ----- \n",
      " 0   Region       68 non-null     object\n",
      " 1   Qtr          68 non-null     int64 \n",
      " 2   Year         68 non-null     int64 \n",
      " 3   Revenue      68 non-null     int64 \n",
      " 4   Subscribers  68 non-null     int64 \n",
      "dtypes: int64(4), object(1)\n",
      "memory usage: 2.8+ KB\n"
     ]
    }
   ],
   "source": [
    "# Information overview \n",
    "fin_data.info()"
   ]
  },
  {
   "cell_type": "code",
   "execution_count": 8,
   "id": "c2c7e1ce",
   "metadata": {},
   "outputs": [
    {
     "data": {
      "text/html": [
       "<div>\n",
       "<style scoped>\n",
       "    .dataframe tbody tr th:only-of-type {\n",
       "        vertical-align: middle;\n",
       "    }\n",
       "\n",
       "    .dataframe tbody tr th {\n",
       "        vertical-align: top;\n",
       "    }\n",
       "\n",
       "    .dataframe thead th {\n",
       "        text-align: right;\n",
       "    }\n",
       "</style>\n",
       "<table border=\"1\" class=\"dataframe\">\n",
       "  <thead>\n",
       "    <tr style=\"text-align: right;\">\n",
       "      <th></th>\n",
       "      <th>Region</th>\n",
       "      <th>Qtr</th>\n",
       "      <th>Year</th>\n",
       "      <th>Revenue</th>\n",
       "      <th>Subscribers</th>\n",
       "    </tr>\n",
       "  </thead>\n",
       "  <tbody>\n",
       "    <tr>\n",
       "      <th>count</th>\n",
       "      <td>68</td>\n",
       "      <td>68.000000</td>\n",
       "      <td>68.000000</td>\n",
       "      <td>68.000000</td>\n",
       "      <td>68.000000</td>\n",
       "    </tr>\n",
       "    <tr>\n",
       "      <th>unique</th>\n",
       "      <td>4</td>\n",
       "      <td>NaN</td>\n",
       "      <td>NaN</td>\n",
       "      <td>NaN</td>\n",
       "      <td>NaN</td>\n",
       "    </tr>\n",
       "    <tr>\n",
       "      <th>top</th>\n",
       "      <td>LATAM</td>\n",
       "      <td>NaN</td>\n",
       "      <td>NaN</td>\n",
       "      <td>NaN</td>\n",
       "      <td>NaN</td>\n",
       "    </tr>\n",
       "    <tr>\n",
       "      <th>freq</th>\n",
       "      <td>17</td>\n",
       "      <td>NaN</td>\n",
       "      <td>NaN</td>\n",
       "      <td>NaN</td>\n",
       "      <td>NaN</td>\n",
       "    </tr>\n",
       "    <tr>\n",
       "      <th>mean</th>\n",
       "      <td>NaN</td>\n",
       "      <td>2.411765</td>\n",
       "      <td>2018.647059</td>\n",
       "      <td>1152.911765</td>\n",
       "      <td>37.235294</td>\n",
       "    </tr>\n",
       "    <tr>\n",
       "      <th>std</th>\n",
       "      <td>NaN</td>\n",
       "      <td>1.149111</td>\n",
       "      <td>1.243067</td>\n",
       "      <td>863.283107</td>\n",
       "      <td>21.850317</td>\n",
       "    </tr>\n",
       "    <tr>\n",
       "      <th>min</th>\n",
       "      <td>NaN</td>\n",
       "      <td>1.000000</td>\n",
       "      <td>2017.000000</td>\n",
       "      <td>116.000000</td>\n",
       "      <td>5.000000</td>\n",
       "    </tr>\n",
       "    <tr>\n",
       "      <th>25%</th>\n",
       "      <td>NaN</td>\n",
       "      <td>1.000000</td>\n",
       "      <td>2018.000000</td>\n",
       "      <td>492.250000</td>\n",
       "      <td>20.000000</td>\n",
       "    </tr>\n",
       "    <tr>\n",
       "      <th>50%</th>\n",
       "      <td>NaN</td>\n",
       "      <td>2.000000</td>\n",
       "      <td>2019.000000</td>\n",
       "      <td>787.000000</td>\n",
       "      <td>31.000000</td>\n",
       "    </tr>\n",
       "    <tr>\n",
       "      <th>75%</th>\n",
       "      <td>NaN</td>\n",
       "      <td>3.000000</td>\n",
       "      <td>2020.000000</td>\n",
       "      <td>1805.250000</td>\n",
       "      <td>59.500000</td>\n",
       "    </tr>\n",
       "    <tr>\n",
       "      <th>max</th>\n",
       "      <td>NaN</td>\n",
       "      <td>4.000000</td>\n",
       "      <td>2021.000000</td>\n",
       "      <td>3171.000000</td>\n",
       "      <td>74.000000</td>\n",
       "    </tr>\n",
       "  </tbody>\n",
       "</table>\n",
       "</div>"
      ],
      "text/plain": [
       "       Region        Qtr         Year      Revenue  Subscribers\n",
       "count      68  68.000000    68.000000    68.000000    68.000000\n",
       "unique      4        NaN          NaN          NaN          NaN\n",
       "top     LATAM        NaN          NaN          NaN          NaN\n",
       "freq       17        NaN          NaN          NaN          NaN\n",
       "mean      NaN   2.411765  2018.647059  1152.911765    37.235294\n",
       "std       NaN   1.149111     1.243067   863.283107    21.850317\n",
       "min       NaN   1.000000  2017.000000   116.000000     5.000000\n",
       "25%       NaN   1.000000  2018.000000   492.250000    20.000000\n",
       "50%       NaN   2.000000  2019.000000   787.000000    31.000000\n",
       "75%       NaN   3.000000  2020.000000  1805.250000    59.500000\n",
       "max       NaN   4.000000  2021.000000  3171.000000    74.000000"
      ]
     },
     "execution_count": 8,
     "metadata": {},
     "output_type": "execute_result"
    }
   ],
   "source": [
    "# Information statistical overview\n",
    "fin_data.describe(include='all')"
   ]
  },
  {
   "cell_type": "code",
   "execution_count": 9,
   "id": "b023af5f",
   "metadata": {},
   "outputs": [
    {
     "data": {
      "text/html": [
       "<div>\n",
       "<style scoped>\n",
       "    .dataframe tbody tr th:only-of-type {\n",
       "        vertical-align: middle;\n",
       "    }\n",
       "\n",
       "    .dataframe tbody tr th {\n",
       "        vertical-align: top;\n",
       "    }\n",
       "\n",
       "    .dataframe thead th {\n",
       "        text-align: right;\n",
       "    }\n",
       "</style>\n",
       "<table border=\"1\" class=\"dataframe\">\n",
       "  <thead>\n",
       "    <tr style=\"text-align: right;\">\n",
       "      <th></th>\n",
       "      <th>Region</th>\n",
       "      <th>2017</th>\n",
       "      <th>2018</th>\n",
       "      <th>2019</th>\n",
       "      <th>2020</th>\n",
       "      <th>2021</th>\n",
       "    </tr>\n",
       "  </thead>\n",
       "  <tbody>\n",
       "    <tr>\n",
       "      <th>0</th>\n",
       "      <td>APAC</td>\n",
       "      <td>576</td>\n",
       "      <td>946</td>\n",
       "      <td>1469</td>\n",
       "      <td>2373</td>\n",
       "      <td>762</td>\n",
       "    </tr>\n",
       "    <tr>\n",
       "      <th>1</th>\n",
       "      <td>EMEA</td>\n",
       "      <td>2363</td>\n",
       "      <td>3964</td>\n",
       "      <td>5543</td>\n",
       "      <td>7772</td>\n",
       "      <td>2344</td>\n",
       "    </tr>\n",
       "    <tr>\n",
       "      <th>2</th>\n",
       "      <td>LATAM</td>\n",
       "      <td>1642</td>\n",
       "      <td>2237</td>\n",
       "      <td>2794</td>\n",
       "      <td>3156</td>\n",
       "      <td>837</td>\n",
       "    </tr>\n",
       "    <tr>\n",
       "      <th>3</th>\n",
       "      <td>UCAN</td>\n",
       "      <td>6660</td>\n",
       "      <td>8282</td>\n",
       "      <td>10051</td>\n",
       "      <td>11456</td>\n",
       "      <td>3171</td>\n",
       "    </tr>\n",
       "  </tbody>\n",
       "</table>\n",
       "</div>"
      ],
      "text/plain": [
       "  Region  2017  2018   2019   2020  2021\n",
       "0   APAC   576   946   1469   2373   762\n",
       "1   EMEA  2363  3964   5543   7772  2344\n",
       "2  LATAM  1642  2237   2794   3156   837\n",
       "3   UCAN  6660  8282  10051  11456  3171"
      ]
     },
     "execution_count": 9,
     "metadata": {},
     "output_type": "execute_result"
    }
   ],
   "source": [
    "# Consolidate all the revenue into a table. \n",
    "rev_data = pd.pivot_table(fin_data, columns='Year', index=['Region'], aggfunc='sum', values='Revenue')\n",
    "\n",
    "# Convert the above pivot table to dataframe \n",
    "flat_rev = pd.DataFrame(rev_data.to_records())\n",
    "flat_rev"
   ]
  },
  {
   "cell_type": "code",
   "execution_count": 10,
   "id": "c42e7ed0",
   "metadata": {},
   "outputs": [
    {
     "data": {
      "text/html": [
       "<div>\n",
       "<style scoped>\n",
       "    .dataframe tbody tr th:only-of-type {\n",
       "        vertical-align: middle;\n",
       "    }\n",
       "\n",
       "    .dataframe tbody tr th {\n",
       "        vertical-align: top;\n",
       "    }\n",
       "\n",
       "    .dataframe thead th {\n",
       "        text-align: right;\n",
       "    }\n",
       "</style>\n",
       "<table border=\"1\" class=\"dataframe\">\n",
       "  <thead>\n",
       "    <tr style=\"text-align: right;\">\n",
       "      <th></th>\n",
       "      <th>2017</th>\n",
       "      <th>2018</th>\n",
       "      <th>2019</th>\n",
       "      <th>2020</th>\n",
       "    </tr>\n",
       "  </thead>\n",
       "  <tbody>\n",
       "    <tr>\n",
       "      <th>sum</th>\n",
       "      <td>111</td>\n",
       "      <td>140</td>\n",
       "      <td>167</td>\n",
       "      <td>204</td>\n",
       "    </tr>\n",
       "  </tbody>\n",
       "</table>\n",
       "</div>"
      ],
      "text/plain": [
       "     2017  2018  2019  2020\n",
       "sum   111   140   167   204"
      ]
     },
     "execution_count": 10,
     "metadata": {},
     "output_type": "execute_result"
    }
   ],
   "source": [
    "# Consolidate all the revenue into a table. \n",
    "consol_data = pd.pivot_table(fin_data, columns='Year', index=['Region'], aggfunc='max', values='Subscribers')\n",
    "\n",
    "# Convert the above pivot table to dataframe and sum by year\n",
    "consol_data = pd.DataFrame(consol_data.to_records()).agg({'2017':['sum'], '2018':['sum'], '2019':['sum'], '2020':['sum']})\n",
    "consol_data"
   ]
  },
  {
   "cell_type": "code",
   "execution_count": 11,
   "id": "2ca5888b",
   "metadata": {},
   "outputs": [
    {
     "data": {
      "text/plain": [
       "<AxesSubplot:xlabel='Year'>"
      ]
     },
     "execution_count": 11,
     "metadata": {},
     "output_type": "execute_result"
    },
    {
     "data": {
      "image/png": "[encoded data removed]",
      "text/plain": [
       "<Figure size 432x288 with 1 Axes>"
      ]
     },
     "metadata": {
      "needs_background": "light"
     },
     "output_type": "display_data"
    }
   ],
   "source": [
    "# Groupby subscribers to respective years and plot them, excluding 2021 because 2021 is incomplete.\n",
    "consol_data = fin_data[fin_data.Year != 2021 ].groupby('Year')['Revenue'].sum()\n",
    "consol_data.plot(kind='bar', color='r')"
   ]
  },
  {
   "cell_type": "markdown",
   "id": "55126f0e",
   "metadata": {},
   "source": [
    "## 3. Dataset 2 - Netflix Prize Data (Original)"
   ]
  },
  {
   "cell_type": "markdown",
   "id": "b344d30d",
   "metadata": {},
   "source": [
    "### (a) Load all files"
   ]
  },
  {
   "cell_type": "markdown",
   "id": "fbe3fe64",
   "metadata": {},
   "source": [
    "#### (I) Combined 4 Text Data Files"
   ]
  },
  {
   "cell_type": "code",
   "execution_count": 12,
   "id": "c55c7fd0",
   "metadata": {},
   "outputs": [
    {
     "name": "stdout",
     "output_type": "stream",
     "text": [
      "Opening file: combined_data_1.txt\n",
      "Opening file: combined_data_2.txt\n",
      "Opening file: combined_data_3.txt\n",
      "Opening file: combined_data_4.txt\n"
     ]
    },
    {
     "data": {
      "text/html": [
       "<div>\n",
       "<style scoped>\n",
       "    .dataframe tbody tr th:only-of-type {\n",
       "        vertical-align: middle;\n",
       "    }\n",
       "\n",
       "    .dataframe tbody tr th {\n",
       "        vertical-align: top;\n",
       "    }\n",
       "\n",
       "    .dataframe thead th {\n",
       "        text-align: right;\n",
       "    }\n",
       "</style>\n",
       "<table border=\"1\" class=\"dataframe\">\n",
       "  <thead>\n",
       "    <tr style=\"text-align: right;\">\n",
       "      <th></th>\n",
       "      <th>movie_id</th>\n",
       "      <th>user_id</th>\n",
       "      <th>rating</th>\n",
       "      <th>date</th>\n",
       "    </tr>\n",
       "  </thead>\n",
       "  <tbody>\n",
       "    <tr>\n",
       "      <th>0</th>\n",
       "      <td>1</td>\n",
       "      <td>1488844</td>\n",
       "      <td>3</td>\n",
       "      <td>2005-09-06</td>\n",
       "    </tr>\n",
       "    <tr>\n",
       "      <th>1</th>\n",
       "      <td>1</td>\n",
       "      <td>822109</td>\n",
       "      <td>5</td>\n",
       "      <td>2005-05-13</td>\n",
       "    </tr>\n",
       "    <tr>\n",
       "      <th>2</th>\n",
       "      <td>1</td>\n",
       "      <td>885013</td>\n",
       "      <td>4</td>\n",
       "      <td>2005-10-19</td>\n",
       "    </tr>\n",
       "    <tr>\n",
       "      <th>3</th>\n",
       "      <td>1</td>\n",
       "      <td>30878</td>\n",
       "      <td>4</td>\n",
       "      <td>2005-12-26</td>\n",
       "    </tr>\n",
       "    <tr>\n",
       "      <th>4</th>\n",
       "      <td>1</td>\n",
       "      <td>823519</td>\n",
       "      <td>3</td>\n",
       "      <td>2004-05-03</td>\n",
       "    </tr>\n",
       "    <tr>\n",
       "      <th>...</th>\n",
       "      <td>...</td>\n",
       "      <td>...</td>\n",
       "      <td>...</td>\n",
       "      <td>...</td>\n",
       "    </tr>\n",
       "    <tr>\n",
       "      <th>100480502</th>\n",
       "      <td>17770</td>\n",
       "      <td>1790158</td>\n",
       "      <td>4</td>\n",
       "      <td>2005-11-01</td>\n",
       "    </tr>\n",
       "    <tr>\n",
       "      <th>100480503</th>\n",
       "      <td>17770</td>\n",
       "      <td>1608708</td>\n",
       "      <td>3</td>\n",
       "      <td>2005-07-19</td>\n",
       "    </tr>\n",
       "    <tr>\n",
       "      <th>100480504</th>\n",
       "      <td>17770</td>\n",
       "      <td>234275</td>\n",
       "      <td>1</td>\n",
       "      <td>2004-08-07</td>\n",
       "    </tr>\n",
       "    <tr>\n",
       "      <th>100480505</th>\n",
       "      <td>17770</td>\n",
       "      <td>255278</td>\n",
       "      <td>4</td>\n",
       "      <td>2004-05-28</td>\n",
       "    </tr>\n",
       "    <tr>\n",
       "      <th>100480506</th>\n",
       "      <td>17770</td>\n",
       "      <td>453585</td>\n",
       "      <td>2</td>\n",
       "      <td>2005-03-10</td>\n",
       "    </tr>\n",
       "  </tbody>\n",
       "</table>\n",
       "<p>100480507 rows × 4 columns</p>\n",
       "</div>"
      ],
      "text/plain": [
       "           movie_id  user_id  rating        date\n",
       "0                 1  1488844       3  2005-09-06\n",
       "1                 1   822109       5  2005-05-13\n",
       "2                 1   885013       4  2005-10-19\n",
       "3                 1    30878       4  2005-12-26\n",
       "4                 1   823519       3  2004-05-03\n",
       "...             ...      ...     ...         ...\n",
       "100480502     17770  1790158       4  2005-11-01\n",
       "100480503     17770  1608708       3  2005-07-19\n",
       "100480504     17770   234275       1  2004-08-07\n",
       "100480505     17770   255278       4  2004-05-28\n",
       "100480506     17770   453585       2  2005-03-10\n",
       "\n",
       "[100480507 rows x 4 columns]"
      ]
     },
     "execution_count": 12,
     "metadata": {},
     "output_type": "execute_result"
    }
   ],
   "source": [
    "# DataFrame to store all imported data\n",
    "\n",
    "data = open('data.csv', mode='w')\n",
    "\n",
    "files = ['combined_data_1.txt',\n",
    "         'combined_data_2.txt',\n",
    "         'combined_data_3.txt',\n",
    "         'combined_data_4.txt']\n",
    "\n",
    "# Remove the line with movie_id: and add a new column of movie_id\n",
    "# Combine all data files into a csv file\n",
    "for file in files:\n",
    "  print(\"Opening file: {}\".format(file))\n",
    "  with open(file) as f:\n",
    "    for line in f:\n",
    "        line = line.strip()\n",
    "        if line.endswith(':'):\n",
    "            movie_id = line.replace(':', '')\n",
    "        else:\n",
    "            data.write(movie_id + ',' + line)\n",
    "            data.write('\\n')\n",
    "data.close()\n",
    "\n",
    "# Read all data into a pd dataframe\n",
    "text_data = pd.read_csv('data.csv', names=['movie_id', 'user_id','rating','date'])\n",
    "\n",
    "# See combined file of df\n",
    "text_data"
   ]
  },
  {
   "cell_type": "code",
   "execution_count": 13,
   "id": "fb24fc99",
   "metadata": {},
   "outputs": [
    {
     "name": "stdout",
     "output_type": "stream",
     "text": [
      "<class 'pandas.core.frame.DataFrame'>\n",
      "RangeIndex: 100480507 entries, 0 to 100480506\n",
      "Data columns (total 4 columns):\n",
      " #   Column    Dtype \n",
      "---  ------    ----- \n",
      " 0   movie_id  int64 \n",
      " 1   user_id   int64 \n",
      " 2   rating    int64 \n",
      " 3   date      object\n",
      "dtypes: int64(3), object(1)\n",
      "memory usage: 3.0+ GB\n"
     ]
    }
   ],
   "source": [
    "# Using info to check the shape, column names and type of df\n",
    "text_data.info()"
   ]
  },
  {
   "cell_type": "code",
   "execution_count": 14,
   "id": "c95b96ee",
   "metadata": {},
   "outputs": [],
   "source": [
    "# convert date to datetime format\n",
    "text_data['date'] = pd.to_datetime(text_data['date'], format='%Y-%m-%d')"
   ]
  },
  {
   "cell_type": "code",
   "execution_count": 15,
   "id": "4be08488",
   "metadata": {},
   "outputs": [
    {
     "data": {
      "text/plain": [
       "480189"
      ]
     },
     "execution_count": 15,
     "metadata": {},
     "output_type": "execute_result"
    }
   ],
   "source": [
    "# count the number of customers for this dataset \n",
    "text_data.user_id.nunique()"
   ]
  },
  {
   "cell_type": "code",
   "execution_count": 16,
   "id": "c3b11227",
   "metadata": {},
   "outputs": [
    {
     "data": {
      "text/plain": [
       "movie_id    0\n",
       "user_id     0\n",
       "rating      0\n",
       "date        0\n",
       "dtype: int64"
      ]
     },
     "execution_count": 16,
     "metadata": {},
     "output_type": "execute_result"
    }
   ],
   "source": [
    "# Check for any null values\n",
    "text_data.isnull().sum()"
   ]
  },
  {
   "cell_type": "code",
   "execution_count": 17,
   "id": "d1ef240a",
   "metadata": {},
   "outputs": [
    {
     "data": {
      "text/plain": [
       "Timestamp('1999-11-11 00:00:00')"
      ]
     },
     "execution_count": 17,
     "metadata": {},
     "output_type": "execute_result"
    }
   ],
   "source": [
    "# Rating started from this date onwards: \n",
    "text_data['date'].min()"
   ]
  },
  {
   "cell_type": "code",
   "execution_count": 18,
   "id": "7dc54763",
   "metadata": {},
   "outputs": [
    {
     "data": {
      "text/plain": [
       "Timestamp('2005-12-31 00:00:00')"
      ]
     },
     "execution_count": 18,
     "metadata": {},
     "output_type": "execute_result"
    }
   ],
   "source": [
    "# Ratings collected ceased on this date:  \n",
    "text_data['date'].max()"
   ]
  },
  {
   "cell_type": "markdown",
   "id": "61bf1a47",
   "metadata": {},
   "source": [
    "#### (II) Movie Details Dataset"
   ]
  },
  {
   "cell_type": "markdown",
   "id": "ea9cc781",
   "metadata": {},
   "source": [
    "Movie Dataset contains the following: \n",
    "* movie_id -- (1 to 17,770)\n",
    "* release_year -- (1896 to 2005) The Year Movie was Released \n",
    "* movie_title -- in English"
   ]
  },
  {
   "cell_type": "code",
   "execution_count": 19,
   "id": "63b6cd4c",
   "metadata": {},
   "outputs": [
    {
     "data": {
      "text/html": [
       "<div>\n",
       "<style scoped>\n",
       "    .dataframe tbody tr th:only-of-type {\n",
       "        vertical-align: middle;\n",
       "    }\n",
       "\n",
       "    .dataframe tbody tr th {\n",
       "        vertical-align: top;\n",
       "    }\n",
       "\n",
       "    .dataframe thead th {\n",
       "        text-align: right;\n",
       "    }\n",
       "</style>\n",
       "<table border=\"1\" class=\"dataframe\">\n",
       "  <thead>\n",
       "    <tr style=\"text-align: right;\">\n",
       "      <th></th>\n",
       "      <th>movie_id</th>\n",
       "      <th>release_year</th>\n",
       "      <th>movie_title</th>\n",
       "    </tr>\n",
       "  </thead>\n",
       "  <tbody>\n",
       "    <tr>\n",
       "      <th>0</th>\n",
       "      <td>1</td>\n",
       "      <td>2003.0</td>\n",
       "      <td>Dinosaur Planet</td>\n",
       "    </tr>\n",
       "    <tr>\n",
       "      <th>1</th>\n",
       "      <td>2</td>\n",
       "      <td>2004.0</td>\n",
       "      <td>Isle of Man TT 2004 Review</td>\n",
       "    </tr>\n",
       "    <tr>\n",
       "      <th>2</th>\n",
       "      <td>3</td>\n",
       "      <td>1997.0</td>\n",
       "      <td>Character</td>\n",
       "    </tr>\n",
       "    <tr>\n",
       "      <th>3</th>\n",
       "      <td>4</td>\n",
       "      <td>1994.0</td>\n",
       "      <td>Paula Abdul's Get Up &amp; Dance</td>\n",
       "    </tr>\n",
       "    <tr>\n",
       "      <th>4</th>\n",
       "      <td>5</td>\n",
       "      <td>2004.0</td>\n",
       "      <td>The Rise and Fall of ECW</td>\n",
       "    </tr>\n",
       "    <tr>\n",
       "      <th>...</th>\n",
       "      <td>...</td>\n",
       "      <td>...</td>\n",
       "      <td>...</td>\n",
       "    </tr>\n",
       "    <tr>\n",
       "      <th>17765</th>\n",
       "      <td>17766</td>\n",
       "      <td>2002.0</td>\n",
       "      <td>Where the Wild Things Are and Other Maurice Se...</td>\n",
       "    </tr>\n",
       "    <tr>\n",
       "      <th>17766</th>\n",
       "      <td>17767</td>\n",
       "      <td>2004.0</td>\n",
       "      <td>Fidel Castro: American Experience</td>\n",
       "    </tr>\n",
       "    <tr>\n",
       "      <th>17767</th>\n",
       "      <td>17768</td>\n",
       "      <td>2000.0</td>\n",
       "      <td>Epoch</td>\n",
       "    </tr>\n",
       "    <tr>\n",
       "      <th>17768</th>\n",
       "      <td>17769</td>\n",
       "      <td>2003.0</td>\n",
       "      <td>The Company</td>\n",
       "    </tr>\n",
       "    <tr>\n",
       "      <th>17769</th>\n",
       "      <td>17770</td>\n",
       "      <td>2003.0</td>\n",
       "      <td>Alien Hunter</td>\n",
       "    </tr>\n",
       "  </tbody>\n",
       "</table>\n",
       "<p>17770 rows × 3 columns</p>\n",
       "</div>"
      ],
      "text/plain": [
       "       movie_id  release_year  \\\n",
       "0             1        2003.0   \n",
       "1             2        2004.0   \n",
       "2             3        1997.0   \n",
       "3             4        1994.0   \n",
       "4             5        2004.0   \n",
       "...         ...           ...   \n",
       "17765     17766        2002.0   \n",
       "17766     17767        2004.0   \n",
       "17767     17768        2000.0   \n",
       "17768     17769        2003.0   \n",
       "17769     17770        2003.0   \n",
       "\n",
       "                                             movie_title  \n",
       "0                                        Dinosaur Planet  \n",
       "1                             Isle of Man TT 2004 Review  \n",
       "2                                              Character  \n",
       "3                           Paula Abdul's Get Up & Dance  \n",
       "4                               The Rise and Fall of ECW  \n",
       "...                                                  ...  \n",
       "17765  Where the Wild Things Are and Other Maurice Se...  \n",
       "17766                  Fidel Castro: American Experience  \n",
       "17767                                              Epoch  \n",
       "17768                                        The Company  \n",
       "17769                                       Alien Hunter  \n",
       "\n",
       "[17770 rows x 3 columns]"
      ]
     },
     "execution_count": 19,
     "metadata": {},
     "output_type": "execute_result"
    }
   ],
   "source": [
    "# reading movie details\n",
    "movie_df =  pd.read_csv('movie_titles.csv', names=['movie_id','release_year','movie_title'], \n",
    "                        encoding = 'ISO-8859-1')\n",
    "\n",
    "# See the movie data details\n",
    "movie_df"
   ]
  },
  {
   "cell_type": "code",
   "execution_count": 20,
   "id": "096631ad",
   "metadata": {},
   "outputs": [
    {
     "data": {
      "text/plain": [
       "movie_id        0\n",
       "release_year    7\n",
       "movie_title     0\n",
       "dtype: int64"
      ]
     },
     "execution_count": 20,
     "metadata": {},
     "output_type": "execute_result"
    }
   ],
   "source": [
    "# Check for any null values\n",
    "movie_df.isnull().sum()"
   ]
  },
  {
   "cell_type": "code",
   "execution_count": 21,
   "id": "6e2ba415",
   "metadata": {},
   "outputs": [
    {
     "data": {
      "text/html": [
       "<div>\n",
       "<style scoped>\n",
       "    .dataframe tbody tr th:only-of-type {\n",
       "        vertical-align: middle;\n",
       "    }\n",
       "\n",
       "    .dataframe tbody tr th {\n",
       "        vertical-align: top;\n",
       "    }\n",
       "\n",
       "    .dataframe thead th {\n",
       "        text-align: right;\n",
       "    }\n",
       "</style>\n",
       "<table border=\"1\" class=\"dataframe\">\n",
       "  <thead>\n",
       "    <tr style=\"text-align: right;\">\n",
       "      <th></th>\n",
       "      <th>movie_id</th>\n",
       "      <th>release_year</th>\n",
       "      <th>movie_title</th>\n",
       "    </tr>\n",
       "  </thead>\n",
       "  <tbody>\n",
       "    <tr>\n",
       "      <th>4387</th>\n",
       "      <td>4388</td>\n",
       "      <td>NaN</td>\n",
       "      <td>Ancient Civilizations: Rome and Pompeii</td>\n",
       "    </tr>\n",
       "    <tr>\n",
       "      <th>4793</th>\n",
       "      <td>4794</td>\n",
       "      <td>NaN</td>\n",
       "      <td>Ancient Civilizations: Land of the Pharaohs</td>\n",
       "    </tr>\n",
       "    <tr>\n",
       "      <th>7240</th>\n",
       "      <td>7241</td>\n",
       "      <td>NaN</td>\n",
       "      <td>Ancient Civilizations: Athens and Greece</td>\n",
       "    </tr>\n",
       "    <tr>\n",
       "      <th>10781</th>\n",
       "      <td>10782</td>\n",
       "      <td>NaN</td>\n",
       "      <td>Roti Kapada Aur Makaan</td>\n",
       "    </tr>\n",
       "    <tr>\n",
       "      <th>15917</th>\n",
       "      <td>15918</td>\n",
       "      <td>NaN</td>\n",
       "      <td>Hote Hote Pyaar Ho Gaya</td>\n",
       "    </tr>\n",
       "    <tr>\n",
       "      <th>16677</th>\n",
       "      <td>16678</td>\n",
       "      <td>NaN</td>\n",
       "      <td>Jimmy Hollywood</td>\n",
       "    </tr>\n",
       "    <tr>\n",
       "      <th>17666</th>\n",
       "      <td>17667</td>\n",
       "      <td>NaN</td>\n",
       "      <td>Eros Dance Dhamaka</td>\n",
       "    </tr>\n",
       "  </tbody>\n",
       "</table>\n",
       "</div>"
      ],
      "text/plain": [
       "       movie_id  release_year                                  movie_title\n",
       "4387       4388           NaN      Ancient Civilizations: Rome and Pompeii\n",
       "4793       4794           NaN  Ancient Civilizations: Land of the Pharaohs\n",
       "7240       7241           NaN     Ancient Civilizations: Athens and Greece\n",
       "10781     10782           NaN                       Roti Kapada Aur Makaan\n",
       "15917     15918           NaN                      Hote Hote Pyaar Ho Gaya\n",
       "16677     16678           NaN                              Jimmy Hollywood\n",
       "17666     17667           NaN                           Eros Dance Dhamaka"
      ]
     },
     "execution_count": 21,
     "metadata": {},
     "output_type": "execute_result"
    }
   ],
   "source": [
    "# to get the exact row number for the null values \n",
    "movie_df[pd.isnull(movie_df).any(axis=1)]"
   ]
  },
  {
   "cell_type": "code",
   "execution_count": 22,
   "id": "b021561c",
   "metadata": {},
   "outputs": [],
   "source": [
    "# replace the release year accordingly \n",
    "movie_df.at[4387,'release_year'] = 2001\n",
    "movie_df.at[4793,'release_year'] = 2001\n",
    "movie_df.at[7240,'release_year'] = 2001\n",
    "movie_df.at[10781,'release_year'] = 1974\n",
    "movie_df.at[15917,'release_year'] = 1999\n",
    "movie_df.at[16677,'release_year'] = 1994\n",
    "movie_df.at[17666,'release_year'] = 1999"
   ]
  },
  {
   "cell_type": "code",
   "execution_count": 23,
   "id": "60fded77",
   "metadata": {},
   "outputs": [
    {
     "data": {
      "text/plain": [
       "movie_id        0\n",
       "release_year    0\n",
       "movie_title     0\n",
       "dtype: int64"
      ]
     },
     "execution_count": 23,
     "metadata": {},
     "output_type": "execute_result"
    }
   ],
   "source": [
    "# Another check for any null values\n",
    "movie_df.isnull().sum()"
   ]
  },
  {
   "cell_type": "code",
   "execution_count": 24,
   "id": "4cbca90e",
   "metadata": {},
   "outputs": [],
   "source": [
    "# Convert the year to integer\n",
    "movie_df['release_year'] = movie_df['release_year'].astype(int)"
   ]
  },
  {
   "cell_type": "code",
   "execution_count": 25,
   "id": "eb11a79f",
   "metadata": {},
   "outputs": [
    {
     "data": {
      "text/html": [
       "<div>\n",
       "<style scoped>\n",
       "    .dataframe tbody tr th:only-of-type {\n",
       "        vertical-align: middle;\n",
       "    }\n",
       "\n",
       "    .dataframe tbody tr th {\n",
       "        vertical-align: top;\n",
       "    }\n",
       "\n",
       "    .dataframe thead th {\n",
       "        text-align: right;\n",
       "    }\n",
       "</style>\n",
       "<table border=\"1\" class=\"dataframe\">\n",
       "  <thead>\n",
       "    <tr style=\"text-align: right;\">\n",
       "      <th></th>\n",
       "      <th>movie_id</th>\n",
       "      <th>release_year</th>\n",
       "      <th>movie_title</th>\n",
       "    </tr>\n",
       "  </thead>\n",
       "  <tbody>\n",
       "    <tr>\n",
       "      <th>0</th>\n",
       "      <td>1</td>\n",
       "      <td>2003</td>\n",
       "      <td>Dinosaur Planet</td>\n",
       "    </tr>\n",
       "    <tr>\n",
       "      <th>1</th>\n",
       "      <td>2</td>\n",
       "      <td>2004</td>\n",
       "      <td>Isle of Man TT 2004 Review</td>\n",
       "    </tr>\n",
       "    <tr>\n",
       "      <th>2</th>\n",
       "      <td>3</td>\n",
       "      <td>1997</td>\n",
       "      <td>Character</td>\n",
       "    </tr>\n",
       "    <tr>\n",
       "      <th>3</th>\n",
       "      <td>4</td>\n",
       "      <td>1994</td>\n",
       "      <td>Paula Abdul's Get Up &amp; Dance</td>\n",
       "    </tr>\n",
       "    <tr>\n",
       "      <th>4</th>\n",
       "      <td>5</td>\n",
       "      <td>2004</td>\n",
       "      <td>The Rise and Fall of ECW</td>\n",
       "    </tr>\n",
       "  </tbody>\n",
       "</table>\n",
       "</div>"
      ],
      "text/plain": [
       "   movie_id  release_year                   movie_title\n",
       "0         1          2003               Dinosaur Planet\n",
       "1         2          2004    Isle of Man TT 2004 Review\n",
       "2         3          1997                     Character\n",
       "3         4          1994  Paula Abdul's Get Up & Dance\n",
       "4         5          2004      The Rise and Fall of ECW"
      ]
     },
     "execution_count": 25,
     "metadata": {},
     "output_type": "execute_result"
    }
   ],
   "source": [
    "# Final check on the head for movie_df\n",
    "movie_df.head()"
   ]
  },
  {
   "cell_type": "markdown",
   "id": "19090b7c",
   "metadata": {},
   "source": [
    "#### (III) Merged Data - Combine (a) & (b) "
   ]
  },
  {
   "cell_type": "code",
   "execution_count": 26,
   "id": "9acf75d9",
   "metadata": {},
   "outputs": [
    {
     "data": {
      "text/html": [
       "<div>\n",
       "<style scoped>\n",
       "    .dataframe tbody tr th:only-of-type {\n",
       "        vertical-align: middle;\n",
       "    }\n",
       "\n",
       "    .dataframe tbody tr th {\n",
       "        vertical-align: top;\n",
       "    }\n",
       "\n",
       "    .dataframe thead th {\n",
       "        text-align: right;\n",
       "    }\n",
       "</style>\n",
       "<table border=\"1\" class=\"dataframe\">\n",
       "  <thead>\n",
       "    <tr style=\"text-align: right;\">\n",
       "      <th></th>\n",
       "      <th>movie_id</th>\n",
       "      <th>user_id</th>\n",
       "      <th>rating</th>\n",
       "      <th>date</th>\n",
       "      <th>release_year</th>\n",
       "      <th>movie_title</th>\n",
       "    </tr>\n",
       "  </thead>\n",
       "  <tbody>\n",
       "    <tr>\n",
       "      <th>0</th>\n",
       "      <td>1</td>\n",
       "      <td>1488844</td>\n",
       "      <td>3</td>\n",
       "      <td>2005-09-06</td>\n",
       "      <td>2003</td>\n",
       "      <td>Dinosaur Planet</td>\n",
       "    </tr>\n",
       "    <tr>\n",
       "      <th>1</th>\n",
       "      <td>1</td>\n",
       "      <td>822109</td>\n",
       "      <td>5</td>\n",
       "      <td>2005-05-13</td>\n",
       "      <td>2003</td>\n",
       "      <td>Dinosaur Planet</td>\n",
       "    </tr>\n",
       "    <tr>\n",
       "      <th>2</th>\n",
       "      <td>1</td>\n",
       "      <td>885013</td>\n",
       "      <td>4</td>\n",
       "      <td>2005-10-19</td>\n",
       "      <td>2003</td>\n",
       "      <td>Dinosaur Planet</td>\n",
       "    </tr>\n",
       "    <tr>\n",
       "      <th>3</th>\n",
       "      <td>1</td>\n",
       "      <td>30878</td>\n",
       "      <td>4</td>\n",
       "      <td>2005-12-26</td>\n",
       "      <td>2003</td>\n",
       "      <td>Dinosaur Planet</td>\n",
       "    </tr>\n",
       "    <tr>\n",
       "      <th>4</th>\n",
       "      <td>1</td>\n",
       "      <td>823519</td>\n",
       "      <td>3</td>\n",
       "      <td>2004-05-03</td>\n",
       "      <td>2003</td>\n",
       "      <td>Dinosaur Planet</td>\n",
       "    </tr>\n",
       "    <tr>\n",
       "      <th>...</th>\n",
       "      <td>...</td>\n",
       "      <td>...</td>\n",
       "      <td>...</td>\n",
       "      <td>...</td>\n",
       "      <td>...</td>\n",
       "      <td>...</td>\n",
       "    </tr>\n",
       "    <tr>\n",
       "      <th>100480502</th>\n",
       "      <td>17770</td>\n",
       "      <td>1790158</td>\n",
       "      <td>4</td>\n",
       "      <td>2005-11-01</td>\n",
       "      <td>2003</td>\n",
       "      <td>Alien Hunter</td>\n",
       "    </tr>\n",
       "    <tr>\n",
       "      <th>100480503</th>\n",
       "      <td>17770</td>\n",
       "      <td>1608708</td>\n",
       "      <td>3</td>\n",
       "      <td>2005-07-19</td>\n",
       "      <td>2003</td>\n",
       "      <td>Alien Hunter</td>\n",
       "    </tr>\n",
       "    <tr>\n",
       "      <th>100480504</th>\n",
       "      <td>17770</td>\n",
       "      <td>234275</td>\n",
       "      <td>1</td>\n",
       "      <td>2004-08-07</td>\n",
       "      <td>2003</td>\n",
       "      <td>Alien Hunter</td>\n",
       "    </tr>\n",
       "    <tr>\n",
       "      <th>100480505</th>\n",
       "      <td>17770</td>\n",
       "      <td>255278</td>\n",
       "      <td>4</td>\n",
       "      <td>2004-05-28</td>\n",
       "      <td>2003</td>\n",
       "      <td>Alien Hunter</td>\n",
       "    </tr>\n",
       "    <tr>\n",
       "      <th>100480506</th>\n",
       "      <td>17770</td>\n",
       "      <td>453585</td>\n",
       "      <td>2</td>\n",
       "      <td>2005-03-10</td>\n",
       "      <td>2003</td>\n",
       "      <td>Alien Hunter</td>\n",
       "    </tr>\n",
       "  </tbody>\n",
       "</table>\n",
       "<p>100480507 rows × 6 columns</p>\n",
       "</div>"
      ],
      "text/plain": [
       "           movie_id  user_id  rating       date  release_year      movie_title\n",
       "0                 1  1488844       3 2005-09-06          2003  Dinosaur Planet\n",
       "1                 1   822109       5 2005-05-13          2003  Dinosaur Planet\n",
       "2                 1   885013       4 2005-10-19          2003  Dinosaur Planet\n",
       "3                 1    30878       4 2005-12-26          2003  Dinosaur Planet\n",
       "4                 1   823519       3 2004-05-03          2003  Dinosaur Planet\n",
       "...             ...      ...     ...        ...           ...              ...\n",
       "100480502     17770  1790158       4 2005-11-01          2003     Alien Hunter\n",
       "100480503     17770  1608708       3 2005-07-19          2003     Alien Hunter\n",
       "100480504     17770   234275       1 2004-08-07          2003     Alien Hunter\n",
       "100480505     17770   255278       4 2004-05-28          2003     Alien Hunter\n",
       "100480506     17770   453585       2 2005-03-10          2003     Alien Hunter\n",
       "\n",
       "[100480507 rows x 6 columns]"
      ]
     },
     "execution_count": 26,
     "metadata": {},
     "output_type": "execute_result"
    }
   ],
   "source": [
    "# Using Outer Join to merge both files using the Movie ID columns that's present in both files\n",
    "df = pd.merge(text_data, movie_df, on='movie_id', how='outer')\n",
    "df"
   ]
  },
  {
   "cell_type": "markdown",
   "id": "9ec0616f",
   "metadata": {},
   "source": [
    "### (b) General Visualisations"
   ]
  },
  {
   "cell_type": "markdown",
   "id": "6cea582a",
   "metadata": {},
   "source": [
    "To understand more of the data we have retrieved from the above approx. 100million rows data."
   ]
  },
  {
   "cell_type": "markdown",
   "id": "534b4ef7",
   "metadata": {},
   "source": [
    "#### (I) Rating Distribution "
   ]
  },
  {
   "cell_type": "code",
   "execution_count": 27,
   "id": "ba678aba",
   "metadata": {},
   "outputs": [
    {
     "data": {
      "text/plain": [
       "rating\n",
       "1      4617990\n",
       "2     20264160\n",
       "3     86433741\n",
       "4    135003832\n",
       "5    115841160\n",
       "Name: rating, dtype: int64"
      ]
     },
     "execution_count": 27,
     "metadata": {},
     "output_type": "execute_result"
    }
   ],
   "source": [
    "# count the total number of ratings \n",
    "df.groupby(\"rating\")[\"rating\"].sum()"
   ]
  },
  {
   "cell_type": "code",
   "execution_count": 28,
   "id": "1e61d93b",
   "metadata": {},
   "outputs": [
    {
     "data": {
      "text/plain": [
       "Text(0.5, 1.0, 'Rating Distribution from 1999 to 2005')"
      ]
     },
     "execution_count": 28,
     "metadata": {},
     "output_type": "execute_result"
    },
    {
     "data": {
      "image/png": "[encoded data removed]",
      "text/plain": [
       "<Figure size 432x432 with 1 Axes>"
      ]
     },
     "metadata": {
      "needs_background": "light"
     },
     "output_type": "display_data"
    }
   ],
   "source": [
    "# set figure size \n",
    "plt.figure(figsize=(6,6))\n",
    "\n",
    "# plot the ratings in a chart\n",
    "df.groupby(\"rating\")[\"rating\"].sum().plot(kind='bar', color='r')\n",
    "\n",
    "# set the respective labels \n",
    "plt.xticks(rotation=0)\n",
    "plt.xlabel('Movie Ratings')\n",
    "plt.ylabel('Number of Ratings (in trillion)')\n",
    "plt.title('Rating Distribution from 1999 to 2005', fontweight=\"bold\")"
   ]
  },
  {
   "cell_type": "code",
   "execution_count": 29,
   "id": "342b64e2",
   "metadata": {},
   "outputs": [
    {
     "data": {
      "text/plain": [
       "Text(0.5, 1.0, 'Rating Distribution from 1999 to 2005')"
      ]
     },
     "execution_count": 29,
     "metadata": {},
     "output_type": "execute_result"
    },
    {
     "data": {
      "image/png": "[encoded data removed]",
      "text/plain": [
       "<Figure size 432x432 with 1 Axes>"
      ]
     },
     "metadata": {
      "needs_background": "light"
     },
     "output_type": "display_data"
    }
   ],
   "source": [
    "# set figure size \n",
    "plt.figure(figsize=(6,6))\n",
    "\n",
    "# plot the ratings in a chart\n",
    "df.groupby(\"date\")[\"rating\"].sum().plot(kind='bar', color='r')\n",
    "\n",
    "# set the respective labels \n",
    "plt.xticks(rotation=0)\n",
    "plt.xlabel('Date')\n",
    "plt.ylabel('Number of Ratings (in trillion)')\n",
    "plt.title('Rating Distribution from 1999 to 2005', fontweight=\"bold\")"
   ]
  },
  {
   "cell_type": "markdown",
   "id": "fedcf93f",
   "metadata": {},
   "source": [
    "#### (II) Top 10 Movie Titles by Ratings"
   ]
  },
  {
   "cell_type": "code",
   "execution_count": 30,
   "id": "6e0b2d14",
   "metadata": {},
   "outputs": [
    {
     "data": {
      "text/plain": [
       "<Figure size 1080x720 with 0 Axes>"
      ]
     },
     "metadata": {},
     "output_type": "display_data"
    },
    {
     "data": {
      "image/png": "[encoded data removed]",
      "text/plain": [
       "<Figure size 432x288 with 1 Axes>"
      ]
     },
     "metadata": {
      "needs_background": "light"
     },
     "output_type": "display_data"
    }
   ],
   "source": [
    "# sum of all ratings by movie title\n",
    "mt_rank = df.groupby(\"movie_title\")[\"rating\"].sum()\n",
    "\n",
    "# sort them by highest rating first\n",
    "mt_rank = mt_rank.sort_values(ascending=False)\n",
    "\n",
    "# convert to dataframe\n",
    "top_10mt = pd.DataFrame(mt_rank.head(10))\n",
    "\n",
    "# set figure size \n",
    "plt.figure(figsize=(15,10))\n",
    "\n",
    "# plot graph\n",
    "top_10mt.plot(kind='barh', color='r')\n",
    "\n",
    "# set the respective labels \n",
    "plt.xlabel('Total Ratings')\n",
    "plt.ylabel('Movie Title')\n",
    "plt.title('Top 10 Movie Ratings', fontweight='bold')\n",
    "plt.show()"
   ]
  },
  {
   "cell_type": "markdown",
   "id": "b0a1527d",
   "metadata": {},
   "source": [
    "### (c) Split the Files for Analysis - Choosing the size of data"
   ]
  },
  {
   "cell_type": "markdown",
   "id": "248888b8",
   "metadata": {},
   "source": [
    "Due to time constraints and laptop compatibility for 1 pax, I decided to go ahead with 5 million rows. \n",
    "\\\n",
    "Below are the steps I took to cut down on the data size in order for my device to run the codes in File 2 of 3 using Surprise Library. "
   ]
  },
  {
   "cell_type": "markdown",
   "id": "8119687f",
   "metadata": {},
   "source": [
    "#### (I) Decision 1: To use the dataset where users rated during Jan to Dec 2005"
   ]
  },
  {
   "cell_type": "markdown",
   "id": "0c1bfe79",
   "metadata": {},
   "source": [
    "Limitations: Due to the large dataset, we will be using the data where ratings were provided from 2005 onwards. "
   ]
  },
  {
   "cell_type": "code",
   "execution_count": 31,
   "id": "cdfde0ee",
   "metadata": {},
   "outputs": [
    {
     "data": {
      "text/html": [
       "<div>\n",
       "<style scoped>\n",
       "    .dataframe tbody tr th:only-of-type {\n",
       "        vertical-align: middle;\n",
       "    }\n",
       "\n",
       "    .dataframe tbody tr th {\n",
       "        vertical-align: top;\n",
       "    }\n",
       "\n",
       "    .dataframe thead th {\n",
       "        text-align: right;\n",
       "    }\n",
       "</style>\n",
       "<table border=\"1\" class=\"dataframe\">\n",
       "  <thead>\n",
       "    <tr style=\"text-align: right;\">\n",
       "      <th></th>\n",
       "      <th>movie_id</th>\n",
       "      <th>user_id</th>\n",
       "      <th>rating</th>\n",
       "      <th>date</th>\n",
       "      <th>release_year</th>\n",
       "      <th>movie_title</th>\n",
       "    </tr>\n",
       "  </thead>\n",
       "  <tbody>\n",
       "    <tr>\n",
       "      <th>0</th>\n",
       "      <td>1</td>\n",
       "      <td>1488844</td>\n",
       "      <td>3</td>\n",
       "      <td>2005-09-06</td>\n",
       "      <td>2003</td>\n",
       "      <td>Dinosaur Planet</td>\n",
       "    </tr>\n",
       "    <tr>\n",
       "      <th>1</th>\n",
       "      <td>1</td>\n",
       "      <td>822109</td>\n",
       "      <td>5</td>\n",
       "      <td>2005-05-13</td>\n",
       "      <td>2003</td>\n",
       "      <td>Dinosaur Planet</td>\n",
       "    </tr>\n",
       "    <tr>\n",
       "      <th>2</th>\n",
       "      <td>1</td>\n",
       "      <td>885013</td>\n",
       "      <td>4</td>\n",
       "      <td>2005-10-19</td>\n",
       "      <td>2003</td>\n",
       "      <td>Dinosaur Planet</td>\n",
       "    </tr>\n",
       "    <tr>\n",
       "      <th>3</th>\n",
       "      <td>1</td>\n",
       "      <td>30878</td>\n",
       "      <td>4</td>\n",
       "      <td>2005-12-26</td>\n",
       "      <td>2003</td>\n",
       "      <td>Dinosaur Planet</td>\n",
       "    </tr>\n",
       "    <tr>\n",
       "      <th>5</th>\n",
       "      <td>1</td>\n",
       "      <td>893988</td>\n",
       "      <td>3</td>\n",
       "      <td>2005-11-17</td>\n",
       "      <td>2003</td>\n",
       "      <td>Dinosaur Planet</td>\n",
       "    </tr>\n",
       "    <tr>\n",
       "      <th>...</th>\n",
       "      <td>...</td>\n",
       "      <td>...</td>\n",
       "      <td>...</td>\n",
       "      <td>...</td>\n",
       "      <td>...</td>\n",
       "      <td>...</td>\n",
       "    </tr>\n",
       "    <tr>\n",
       "      <th>100480497</th>\n",
       "      <td>17770</td>\n",
       "      <td>834323</td>\n",
       "      <td>2</td>\n",
       "      <td>2005-10-04</td>\n",
       "      <td>2003</td>\n",
       "      <td>Alien Hunter</td>\n",
       "    </tr>\n",
       "    <tr>\n",
       "      <th>100480501</th>\n",
       "      <td>17770</td>\n",
       "      <td>311124</td>\n",
       "      <td>3</td>\n",
       "      <td>2005-09-29</td>\n",
       "      <td>2003</td>\n",
       "      <td>Alien Hunter</td>\n",
       "    </tr>\n",
       "    <tr>\n",
       "      <th>100480502</th>\n",
       "      <td>17770</td>\n",
       "      <td>1790158</td>\n",
       "      <td>4</td>\n",
       "      <td>2005-11-01</td>\n",
       "      <td>2003</td>\n",
       "      <td>Alien Hunter</td>\n",
       "    </tr>\n",
       "    <tr>\n",
       "      <th>100480503</th>\n",
       "      <td>17770</td>\n",
       "      <td>1608708</td>\n",
       "      <td>3</td>\n",
       "      <td>2005-07-19</td>\n",
       "      <td>2003</td>\n",
       "      <td>Alien Hunter</td>\n",
       "    </tr>\n",
       "    <tr>\n",
       "      <th>100480506</th>\n",
       "      <td>17770</td>\n",
       "      <td>453585</td>\n",
       "      <td>2</td>\n",
       "      <td>2005-03-10</td>\n",
       "      <td>2003</td>\n",
       "      <td>Alien Hunter</td>\n",
       "    </tr>\n",
       "  </tbody>\n",
       "</table>\n",
       "<p>53250073 rows × 6 columns</p>\n",
       "</div>"
      ],
      "text/plain": [
       "           movie_id  user_id  rating       date  release_year      movie_title\n",
       "0                 1  1488844       3 2005-09-06          2003  Dinosaur Planet\n",
       "1                 1   822109       5 2005-05-13          2003  Dinosaur Planet\n",
       "2                 1   885013       4 2005-10-19          2003  Dinosaur Planet\n",
       "3                 1    30878       4 2005-12-26          2003  Dinosaur Planet\n",
       "5                 1   893988       3 2005-11-17          2003  Dinosaur Planet\n",
       "...             ...      ...     ...        ...           ...              ...\n",
       "100480497     17770   834323       2 2005-10-04          2003     Alien Hunter\n",
       "100480501     17770   311124       3 2005-09-29          2003     Alien Hunter\n",
       "100480502     17770  1790158       4 2005-11-01          2003     Alien Hunter\n",
       "100480503     17770  1608708       3 2005-07-19          2003     Alien Hunter\n",
       "100480506     17770   453585       2 2005-03-10          2003     Alien Hunter\n",
       "\n",
       "[53250073 rows x 6 columns]"
      ]
     },
     "execution_count": 31,
     "metadata": {},
     "output_type": "execute_result"
    }
   ],
   "source": [
    "# setting the conditions and check before exporting data out. \n",
    "d1 = df[df.date > '2004-12-31']\n",
    "d1"
   ]
  },
  {
   "cell_type": "code",
   "execution_count": 32,
   "id": "5ff6ba59",
   "metadata": {},
   "outputs": [
    {
     "data": {
      "text/plain": [
       "Text(0.5, 1.0, 'Rating Distribution in 2005')"
      ]
     },
     "execution_count": 32,
     "metadata": {},
     "output_type": "execute_result"
    },
    {
     "data": {
      "image/png": "[encoded data removed]",
      "text/plain": [
       "<Figure size 432x432 with 1 Axes>"
      ]
     },
     "metadata": {
      "needs_background": "light"
     },
     "output_type": "display_data"
    }
   ],
   "source": [
    "# set figure size \n",
    "plt.figure(figsize=(6,6))\n",
    "\n",
    "# plot the ratings in a chart\n",
    "d1.groupby(\"rating\")[\"rating\"].sum().plot(kind='bar', color='r')\n",
    "\n",
    "# set the respective labels \n",
    "plt.xticks(rotation=0)\n",
    "plt.xlabel('Movie Ratings')\n",
    "plt.ylabel('Number of Ratings (in trillion)')\n",
    "plt.title('Rating Distribution in 2005', fontweight=\"bold\")"
   ]
  },
  {
   "cell_type": "markdown",
   "id": "7459956b",
   "metadata": {},
   "source": [
    "The rating distribution was almost similar as the original dataset. To consider using the full year data if computer's processor allows. "
   ]
  },
  {
   "cell_type": "code",
   "execution_count": 33,
   "id": "69ef53ec",
   "metadata": {},
   "outputs": [
    {
     "data": {
      "text/plain": [
       "Text(0.5, 1.0, 'Rating Distribution in 2005')"
      ]
     },
     "execution_count": 33,
     "metadata": {},
     "output_type": "execute_result"
    },
    {
     "data": {
      "image/png": "[encoded data removed]",
      "text/plain": [
       "<Figure size 432x432 with 1 Axes>"
      ]
     },
     "metadata": {
      "needs_background": "light"
     },
     "output_type": "display_data"
    }
   ],
   "source": [
    "# set figure size \n",
    "plt.figure(figsize=(6,6))\n",
    "\n",
    "# plot the ratings in a chart\n",
    "d1.groupby(\"date\")[\"rating\"].sum().plot(kind='bar', color='r')\n",
    "\n",
    "# set the respective labels \n",
    "plt.xticks(rotation=0)\n",
    "plt.xlabel('Date')\n",
    "plt.ylabel('Number of Ratings (in trillion)')\n",
    "plt.title('Rating Distribution in 2005', fontweight=\"bold\")"
   ]
  },
  {
   "cell_type": "code",
   "execution_count": 34,
   "id": "f3918a45",
   "metadata": {},
   "outputs": [
    {
     "data": {
      "text/plain": [
       "<Figure size 1080x720 with 0 Axes>"
      ]
     },
     "metadata": {},
     "output_type": "display_data"
    },
    {
     "data": {
      "image/png": "[encoded data removed]",
      "text/plain": [
       "<Figure size 432x288 with 1 Axes>"
      ]
     },
     "metadata": {
      "needs_background": "light"
     },
     "output_type": "display_data"
    }
   ],
   "source": [
    "# sum of all ratings by movie title\n",
    "mt_rank1 = d1.groupby(\"movie_title\")[\"rating\"].sum()\n",
    "\n",
    "# sort them by highest rating first\n",
    "mt_rank1 = mt_rank1.sort_values(ascending=False)\n",
    "\n",
    "# convert to dataframe\n",
    "top_10mt1 = pd.DataFrame(mt_rank1.head(10))\n",
    "top_10mt1\n",
    "\n",
    "# set figure size \n",
    "plt.figure(figsize=(15,10))\n",
    "\n",
    "# plot graph\n",
    "top_10mt1.plot(kind='barh', color='r')\n",
    "\n",
    "# set the respective labels \n",
    "plt.xlabel('Total Ratings')\n",
    "plt.ylabel('Movie Title')\n",
    "plt.title('Top 10 Movie Ratings in 2005', fontweight='bold')\n",
    "plt.show()"
   ]
  },
  {
   "cell_type": "code",
   "execution_count": 35,
   "id": "eeda5875",
   "metadata": {},
   "outputs": [],
   "source": [
    "# export 2005 data to csv file\n",
    "d1.to_csv('2005-d1.csv', index=False)  "
   ]
  },
  {
   "cell_type": "markdown",
   "id": "92b61eb0",
   "metadata": {},
   "source": [
    "#### (II) Decision 2: To use the dataset where users rated during Jun to Dec 2005"
   ]
  },
  {
   "cell_type": "code",
   "execution_count": 36,
   "id": "ff8f8e27",
   "metadata": {
    "scrolled": false
   },
   "outputs": [
    {
     "data": {
      "text/html": [
       "<div>\n",
       "<style scoped>\n",
       "    .dataframe tbody tr th:only-of-type {\n",
       "        vertical-align: middle;\n",
       "    }\n",
       "\n",
       "    .dataframe tbody tr th {\n",
       "        vertical-align: top;\n",
       "    }\n",
       "\n",
       "    .dataframe thead th {\n",
       "        text-align: right;\n",
       "    }\n",
       "</style>\n",
       "<table border=\"1\" class=\"dataframe\">\n",
       "  <thead>\n",
       "    <tr style=\"text-align: right;\">\n",
       "      <th></th>\n",
       "      <th>movie_id</th>\n",
       "      <th>user_id</th>\n",
       "      <th>rating</th>\n",
       "      <th>date</th>\n",
       "      <th>release_year</th>\n",
       "      <th>movie_title</th>\n",
       "    </tr>\n",
       "  </thead>\n",
       "  <tbody>\n",
       "    <tr>\n",
       "      <th>0</th>\n",
       "      <td>1</td>\n",
       "      <td>1488844</td>\n",
       "      <td>3</td>\n",
       "      <td>2005-09-06</td>\n",
       "      <td>2003</td>\n",
       "      <td>Dinosaur Planet</td>\n",
       "    </tr>\n",
       "    <tr>\n",
       "      <th>2</th>\n",
       "      <td>1</td>\n",
       "      <td>885013</td>\n",
       "      <td>4</td>\n",
       "      <td>2005-10-19</td>\n",
       "      <td>2003</td>\n",
       "      <td>Dinosaur Planet</td>\n",
       "    </tr>\n",
       "    <tr>\n",
       "      <th>3</th>\n",
       "      <td>1</td>\n",
       "      <td>30878</td>\n",
       "      <td>4</td>\n",
       "      <td>2005-12-26</td>\n",
       "      <td>2003</td>\n",
       "      <td>Dinosaur Planet</td>\n",
       "    </tr>\n",
       "    <tr>\n",
       "      <th>5</th>\n",
       "      <td>1</td>\n",
       "      <td>893988</td>\n",
       "      <td>3</td>\n",
       "      <td>2005-11-17</td>\n",
       "      <td>2003</td>\n",
       "      <td>Dinosaur Planet</td>\n",
       "    </tr>\n",
       "    <tr>\n",
       "      <th>11</th>\n",
       "      <td>1</td>\n",
       "      <td>2207774</td>\n",
       "      <td>5</td>\n",
       "      <td>2005-06-06</td>\n",
       "      <td>2003</td>\n",
       "      <td>Dinosaur Planet</td>\n",
       "    </tr>\n",
       "    <tr>\n",
       "      <th>...</th>\n",
       "      <td>...</td>\n",
       "      <td>...</td>\n",
       "      <td>...</td>\n",
       "      <td>...</td>\n",
       "      <td>...</td>\n",
       "      <td>...</td>\n",
       "    </tr>\n",
       "    <tr>\n",
       "      <th>100480496</th>\n",
       "      <td>17770</td>\n",
       "      <td>2641559</td>\n",
       "      <td>3</td>\n",
       "      <td>2005-06-27</td>\n",
       "      <td>2003</td>\n",
       "      <td>Alien Hunter</td>\n",
       "    </tr>\n",
       "    <tr>\n",
       "      <th>100480497</th>\n",
       "      <td>17770</td>\n",
       "      <td>834323</td>\n",
       "      <td>2</td>\n",
       "      <td>2005-10-04</td>\n",
       "      <td>2003</td>\n",
       "      <td>Alien Hunter</td>\n",
       "    </tr>\n",
       "    <tr>\n",
       "      <th>100480501</th>\n",
       "      <td>17770</td>\n",
       "      <td>311124</td>\n",
       "      <td>3</td>\n",
       "      <td>2005-09-29</td>\n",
       "      <td>2003</td>\n",
       "      <td>Alien Hunter</td>\n",
       "    </tr>\n",
       "    <tr>\n",
       "      <th>100480502</th>\n",
       "      <td>17770</td>\n",
       "      <td>1790158</td>\n",
       "      <td>4</td>\n",
       "      <td>2005-11-01</td>\n",
       "      <td>2003</td>\n",
       "      <td>Alien Hunter</td>\n",
       "    </tr>\n",
       "    <tr>\n",
       "      <th>100480503</th>\n",
       "      <td>17770</td>\n",
       "      <td>1608708</td>\n",
       "      <td>3</td>\n",
       "      <td>2005-07-19</td>\n",
       "      <td>2003</td>\n",
       "      <td>Alien Hunter</td>\n",
       "    </tr>\n",
       "  </tbody>\n",
       "</table>\n",
       "<p>31584587 rows × 6 columns</p>\n",
       "</div>"
      ],
      "text/plain": [
       "           movie_id  user_id  rating       date  release_year      movie_title\n",
       "0                 1  1488844       3 2005-09-06          2003  Dinosaur Planet\n",
       "2                 1   885013       4 2005-10-19          2003  Dinosaur Planet\n",
       "3                 1    30878       4 2005-12-26          2003  Dinosaur Planet\n",
       "5                 1   893988       3 2005-11-17          2003  Dinosaur Planet\n",
       "11                1  2207774       5 2005-06-06          2003  Dinosaur Planet\n",
       "...             ...      ...     ...        ...           ...              ...\n",
       "100480496     17770  2641559       3 2005-06-27          2003     Alien Hunter\n",
       "100480497     17770   834323       2 2005-10-04          2003     Alien Hunter\n",
       "100480501     17770   311124       3 2005-09-29          2003     Alien Hunter\n",
       "100480502     17770  1790158       4 2005-11-01          2003     Alien Hunter\n",
       "100480503     17770  1608708       3 2005-07-19          2003     Alien Hunter\n",
       "\n",
       "[31584587 rows x 6 columns]"
      ]
     },
     "execution_count": 36,
     "metadata": {},
     "output_type": "execute_result"
    }
   ],
   "source": [
    "# setting the conditions and check before exporting data out from June to December 2005 \n",
    "d2 = df[df.date > '2005-05-31']\n",
    "d2"
   ]
  },
  {
   "cell_type": "code",
   "execution_count": 37,
   "id": "c6cda622",
   "metadata": {},
   "outputs": [
    {
     "data": {
      "text/plain": [
       "Text(0.5, 1.0, 'Rating Distribution from Jun to Dec 2005')"
      ]
     },
     "execution_count": 37,
     "metadata": {},
     "output_type": "execute_result"
    },
    {
     "data": {
      "image/png": "[encoded data removed]",
      "text/plain": [
       "<Figure size 432x432 with 1 Axes>"
      ]
     },
     "metadata": {
      "needs_background": "light"
     },
     "output_type": "display_data"
    }
   ],
   "source": [
    "# set figure size \n",
    "plt.figure(figsize=(6,6))\n",
    "\n",
    "# plot the ratings in a chart\n",
    "d2.groupby(\"rating\")[\"rating\"].sum().plot(kind='bar', color='r')\n",
    "\n",
    "# set the respective labels \n",
    "plt.xticks(rotation=0)\n",
    "plt.xlabel('Movie Ratings')\n",
    "plt.ylabel('Number of Ratings (in trillion)')\n",
    "plt.title('Rating Distribution from Jun to Dec 2005', fontweight=\"bold\")"
   ]
  },
  {
   "cell_type": "markdown",
   "id": "9b33d247",
   "metadata": {},
   "source": [
    "Due to some limitations, the dataset criteria was change to ratings received from 1st June 2005 onwards. This gives us about 35million data and from the above graph, it seems to remove most #4 ratings as the graph has changed slightly. \n"
   ]
  },
  {
   "cell_type": "code",
   "execution_count": 38,
   "id": "ce8d5d48",
   "metadata": {},
   "outputs": [
    {
     "data": {
      "text/plain": [
       "Text(0.5, 1.0, 'Rating Distribution from Jun to Dec 2005')"
      ]
     },
     "execution_count": 38,
     "metadata": {},
     "output_type": "execute_result"
    },
    {
     "data": {
      "image/png": "[encoded data removed]",
      "text/plain": [
       "<Figure size 432x432 with 1 Axes>"
      ]
     },
     "metadata": {
      "needs_background": "light"
     },
     "output_type": "display_data"
    }
   ],
   "source": [
    "# set figure size \n",
    "plt.figure(figsize=(6,6))\n",
    "\n",
    "# plot the ratings in a chart\n",
    "d2.groupby(\"date\")[\"rating\"].sum().plot(kind='bar', color='r')\n",
    "\n",
    "# set the respective labels \n",
    "plt.xticks(rotation=0)\n",
    "plt.xlabel('Date')\n",
    "plt.ylabel('Number of Ratings (in trillion)')\n",
    "plt.title('Rating Distribution from Jun to Dec 2005', fontweight=\"bold\")"
   ]
  },
  {
   "cell_type": "code",
   "execution_count": 39,
   "id": "bb59e6bf",
   "metadata": {},
   "outputs": [
    {
     "data": {
      "text/plain": [
       "<Figure size 1080x720 with 0 Axes>"
      ]
     },
     "metadata": {},
     "output_type": "display_data"
    },
    {
     "data": {
      "image/png": "[encoded data removed]",
      "text/plain": [
       "<Figure size 432x288 with 1 Axes>"
      ]
     },
     "metadata": {
      "needs_background": "light"
     },
     "output_type": "display_data"
    }
   ],
   "source": [
    "# sum of all ratings by movie title\n",
    "mt_rank2 = d2.groupby(\"movie_title\")[\"rating\"].sum()\n",
    "\n",
    "# sort them by highest rating first\n",
    "mt_rank2 = mt_rank2.sort_values(ascending=False)\n",
    "\n",
    "# convert to dataframe\n",
    "top_10mt2 = pd.DataFrame(mt_rank2.head(10))\n",
    "top_10mt2\n",
    "\n",
    "# set figure size \n",
    "plt.figure(figsize=(15,10))\n",
    "\n",
    "# plot graph\n",
    "top_10mt2.plot(kind='barh', color='r')\n",
    "\n",
    "# set the respective labels \n",
    "plt.xlabel('Total Ratings')\n",
    "plt.ylabel('Movie Title')\n",
    "plt.title('Top 10 Movie Ratings from Jun to Dec 2005', fontweight='bold')\n",
    "plt.show()"
   ]
  },
  {
   "cell_type": "markdown",
   "id": "6de8822e",
   "metadata": {},
   "source": [
    "After several reduction, The Godfather still remains one of the Top 10 movies."
   ]
  },
  {
   "cell_type": "code",
   "execution_count": 40,
   "id": "218e6eba",
   "metadata": {},
   "outputs": [
    {
     "data": {
      "text/html": [
       "<div>\n",
       "<style scoped>\n",
       "    .dataframe tbody tr th:only-of-type {\n",
       "        vertical-align: middle;\n",
       "    }\n",
       "\n",
       "    .dataframe tbody tr th {\n",
       "        vertical-align: top;\n",
       "    }\n",
       "\n",
       "    .dataframe thead th {\n",
       "        text-align: right;\n",
       "    }\n",
       "</style>\n",
       "<table border=\"1\" class=\"dataframe\">\n",
       "  <thead>\n",
       "    <tr style=\"text-align: right;\">\n",
       "      <th></th>\n",
       "      <th>movie_title</th>\n",
       "      <th>rating</th>\n",
       "    </tr>\n",
       "  </thead>\n",
       "  <tbody>\n",
       "    <tr>\n",
       "      <th>0</th>\n",
       "      <td>National Treasure</td>\n",
       "      <td>480842</td>\n",
       "    </tr>\n",
       "    <tr>\n",
       "      <th>1</th>\n",
       "      <td>Hitch</td>\n",
       "      <td>419639</td>\n",
       "    </tr>\n",
       "    <tr>\n",
       "      <th>2</th>\n",
       "      <td>Million Dollar Baby</td>\n",
       "      <td>417167</td>\n",
       "    </tr>\n",
       "    <tr>\n",
       "      <th>3</th>\n",
       "      <td>The Aviator</td>\n",
       "      <td>340076</td>\n",
       "    </tr>\n",
       "    <tr>\n",
       "      <th>4</th>\n",
       "      <td>Gone in 60 Seconds</td>\n",
       "      <td>324653</td>\n",
       "    </tr>\n",
       "    <tr>\n",
       "      <th>...</th>\n",
       "      <td>...</td>\n",
       "      <td>...</td>\n",
       "    </tr>\n",
       "    <tr>\n",
       "      <th>995</th>\n",
       "      <td>The Witches of Eastwick</td>\n",
       "      <td>28307</td>\n",
       "    </tr>\n",
       "    <tr>\n",
       "      <th>996</th>\n",
       "      <td>The Killing Fields</td>\n",
       "      <td>28243</td>\n",
       "    </tr>\n",
       "    <tr>\n",
       "      <th>997</th>\n",
       "      <td>Honey</td>\n",
       "      <td>28231</td>\n",
       "    </tr>\n",
       "    <tr>\n",
       "      <th>998</th>\n",
       "      <td>CSI: Season 4</td>\n",
       "      <td>28217</td>\n",
       "    </tr>\n",
       "    <tr>\n",
       "      <th>999</th>\n",
       "      <td>Easy Rider</td>\n",
       "      <td>28201</td>\n",
       "    </tr>\n",
       "  </tbody>\n",
       "</table>\n",
       "<p>1000 rows × 2 columns</p>\n",
       "</div>"
      ],
      "text/plain": [
       "                 movie_title  rating\n",
       "0          National Treasure  480842\n",
       "1                      Hitch  419639\n",
       "2        Million Dollar Baby  417167\n",
       "3                The Aviator  340076\n",
       "4         Gone in 60 Seconds  324653\n",
       "..                       ...     ...\n",
       "995  The Witches of Eastwick   28307\n",
       "996       The Killing Fields   28243\n",
       "997                    Honey   28231\n",
       "998            CSI: Season 4   28217\n",
       "999               Easy Rider   28201\n",
       "\n",
       "[1000 rows x 2 columns]"
      ]
     },
     "execution_count": 40,
     "metadata": {},
     "output_type": "execute_result"
    }
   ],
   "source": [
    "# Reset the index such that movie title is included in the DataFrame\n",
    "mt_rank3 = pd.DataFrame(mt_rank2.sort_values(ascending=False)).reset_index()\n",
    "\n",
    "# select top 1000 movies\n",
    "top_1kmt = pd.DataFrame(mt_rank3.head(1000))\n",
    "top_1kmt"
   ]
  },
  {
   "cell_type": "code",
   "execution_count": 41,
   "id": "10a1cb87",
   "metadata": {},
   "outputs": [
    {
     "data": {
      "image/png": "[encoded data removed]",
      "text/plain": [
       "<Figure size 432x432 with 1 Axes>"
      ]
     },
     "metadata": {
      "needs_background": "light"
     },
     "output_type": "display_data"
    }
   ],
   "source": [
    "# Set up WordCloud \n",
    "\n",
    "comment_words = '' \n",
    "stopwords = set(STOPWORDS) \n",
    "  \n",
    "# iterate through the file \n",
    "for val in top_1kmt.movie_title: \n",
    "    # typecaste each val to string \n",
    "    val = str(val) \n",
    "    # split the value \n",
    "    tokens = val.split()  \n",
    "    # Converts each token into lowercase \n",
    "    for i in range(len(tokens)): \n",
    "        tokens[i] = tokens[i].lower() \n",
    "      \n",
    "    comment_words += \" \".join(tokens)+\" \"\n",
    "  \n",
    "wordcloud = WordCloud(width = 800, height = 800, background_color ='white', \n",
    "                      stopwords = stopwords, colormap='Reds_r').generate(comment_words) \n",
    "  \n",
    "# plot the WordCloud image                        \n",
    "plt.figure(figsize = (6, 6), facecolor = None) \n",
    "plt.imshow(wordcloud) \n",
    "plt.axis(\"off\") \n",
    "plt.tight_layout(pad = 0) \n",
    "plt.show() "
   ]
  },
  {
   "cell_type": "code",
   "execution_count": 42,
   "id": "3372ca13",
   "metadata": {},
   "outputs": [],
   "source": [
    "# export last 6 months of 2005 data to csv file\n",
    "d2.to_csv('2005-d2.csv', index=False)  "
   ]
  },
  {
   "cell_type": "markdown",
   "id": "ceea2de4",
   "metadata": {},
   "source": [
    "#### (III) Decision 3 : To use 10 million of the data in Jun-Dec 2005 dataset. "
   ]
  },
  {
   "cell_type": "code",
   "execution_count": 43,
   "id": "0929d8c8",
   "metadata": {},
   "outputs": [],
   "source": [
    "# to use 30 % of the data from the last 6 months of 2005. (approx 10 million rows of data)\n",
    "df1, df2 = train_test_split(d2, test_size=0.30, random_state=42)"
   ]
  },
  {
   "cell_type": "code",
   "execution_count": 44,
   "id": "c103a625",
   "metadata": {},
   "outputs": [
    {
     "name": "stdout",
     "output_type": "stream",
     "text": [
      "<class 'pandas.core.frame.DataFrame'>\n",
      "Int64Index: 9475377 entries, 91463495 to 8562728\n",
      "Data columns (total 6 columns):\n",
      " #   Column        Dtype         \n",
      "---  ------        -----         \n",
      " 0   movie_id      int64         \n",
      " 1   user_id       int64         \n",
      " 2   rating        int64         \n",
      " 3   date          datetime64[ns]\n",
      " 4   release_year  int32         \n",
      " 5   movie_title   object        \n",
      "dtypes: datetime64[ns](1), int32(1), int64(3), object(1)\n",
      "memory usage: 469.9+ MB\n"
     ]
    }
   ],
   "source": [
    "# check info of df2\n",
    "df2.info()"
   ]
  },
  {
   "cell_type": "code",
   "execution_count": 45,
   "id": "7e091713",
   "metadata": {},
   "outputs": [],
   "source": [
    "# export df2 data to csv file -- approx 10mil rows for the modeling\n",
    "df2.to_csv('2005-d3.csv', index=False)  "
   ]
  },
  {
   "cell_type": "markdown",
   "id": "6edf5b2d",
   "metadata": {},
   "source": [
    "#### (IV) Decision 4 : To use 5 million of the data in Jun-Dec 2005 dataset. "
   ]
  },
  {
   "cell_type": "code",
   "execution_count": 46,
   "id": "f92ec55d",
   "metadata": {},
   "outputs": [],
   "source": [
    "# to use 54 % of the data from the 10 mil data over the last 6 months of 2005. (approx 5 million rows of data)\n",
    "df3, df4 = train_test_split(df2, test_size=0.54, random_state=42)"
   ]
  },
  {
   "cell_type": "code",
   "execution_count": 47,
   "id": "101f0ece",
   "metadata": {},
   "outputs": [
    {
     "data": {
      "text/html": [
       "<div>\n",
       "<style scoped>\n",
       "    .dataframe tbody tr th:only-of-type {\n",
       "        vertical-align: middle;\n",
       "    }\n",
       "\n",
       "    .dataframe tbody tr th {\n",
       "        vertical-align: top;\n",
       "    }\n",
       "\n",
       "    .dataframe thead th {\n",
       "        text-align: right;\n",
       "    }\n",
       "</style>\n",
       "<table border=\"1\" class=\"dataframe\">\n",
       "  <thead>\n",
       "    <tr style=\"text-align: right;\">\n",
       "      <th></th>\n",
       "      <th>movie_id</th>\n",
       "      <th>user_id</th>\n",
       "      <th>rating</th>\n",
       "      <th>date</th>\n",
       "      <th>release_year</th>\n",
       "      <th>movie_title</th>\n",
       "    </tr>\n",
       "  </thead>\n",
       "  <tbody>\n",
       "    <tr>\n",
       "      <th>33836115</th>\n",
       "      <td>6105</td>\n",
       "      <td>2606550</td>\n",
       "      <td>2</td>\n",
       "      <td>2005-08-21</td>\n",
       "      <td>2000</td>\n",
       "      <td>Paranoid</td>\n",
       "    </tr>\n",
       "    <tr>\n",
       "      <th>9477697</th>\n",
       "      <td>1865</td>\n",
       "      <td>482356</td>\n",
       "      <td>4</td>\n",
       "      <td>2005-11-09</td>\n",
       "      <td>2004</td>\n",
       "      <td>Eternal Sunshine of the Spotless Mind</td>\n",
       "    </tr>\n",
       "    <tr>\n",
       "      <th>26990921</th>\n",
       "      <td>4996</td>\n",
       "      <td>49106</td>\n",
       "      <td>4</td>\n",
       "      <td>2005-06-18</td>\n",
       "      <td>2000</td>\n",
       "      <td>Gone in 60 Seconds</td>\n",
       "    </tr>\n",
       "    <tr>\n",
       "      <th>6660362</th>\n",
       "      <td>1307</td>\n",
       "      <td>1090820</td>\n",
       "      <td>3</td>\n",
       "      <td>2005-07-17</td>\n",
       "      <td>2003</td>\n",
       "      <td>S.W.A.T.</td>\n",
       "    </tr>\n",
       "    <tr>\n",
       "      <th>53007510</th>\n",
       "      <td>9628</td>\n",
       "      <td>502622</td>\n",
       "      <td>3</td>\n",
       "      <td>2005-09-02</td>\n",
       "      <td>1983</td>\n",
       "      <td>Star Wars: Episode VI: Return of the Jedi</td>\n",
       "    </tr>\n",
       "  </tbody>\n",
       "</table>\n",
       "</div>"
      ],
      "text/plain": [
       "          movie_id  user_id  rating       date  release_year  \\\n",
       "33836115      6105  2606550       2 2005-08-21          2000   \n",
       "9477697       1865   482356       4 2005-11-09          2004   \n",
       "26990921      4996    49106       4 2005-06-18          2000   \n",
       "6660362       1307  1090820       3 2005-07-17          2003   \n",
       "53007510      9628   502622       3 2005-09-02          1983   \n",
       "\n",
       "                                        movie_title  \n",
       "33836115                                   Paranoid  \n",
       "9477697       Eternal Sunshine of the Spotless Mind  \n",
       "26990921                         Gone in 60 Seconds  \n",
       "6660362                                    S.W.A.T.  \n",
       "53007510  Star Wars: Episode VI: Return of the Jedi  "
      ]
     },
     "execution_count": 47,
     "metadata": {},
     "output_type": "execute_result"
    }
   ],
   "source": [
    "# view of df4\n",
    "df4.head()"
   ]
  },
  {
   "cell_type": "code",
   "execution_count": 48,
   "id": "4b44141a",
   "metadata": {},
   "outputs": [
    {
     "name": "stdout",
     "output_type": "stream",
     "text": [
      "<class 'pandas.core.frame.DataFrame'>\n",
      "Int64Index: 5116704 entries, 33836115 to 99286450\n",
      "Data columns (total 6 columns):\n",
      " #   Column        Dtype         \n",
      "---  ------        -----         \n",
      " 0   movie_id      int64         \n",
      " 1   user_id       int64         \n",
      " 2   rating        int64         \n",
      " 3   date          datetime64[ns]\n",
      " 4   release_year  int32         \n",
      " 5   movie_title   object        \n",
      "dtypes: datetime64[ns](1), int32(1), int64(3), object(1)\n",
      "memory usage: 253.7+ MB\n"
     ]
    }
   ],
   "source": [
    "# check the info of newly-created df4\n",
    "df4.info()"
   ]
  },
  {
   "cell_type": "code",
   "execution_count": 49,
   "id": "39da4660",
   "metadata": {},
   "outputs": [
    {
     "name": "stdout",
     "output_type": "stream",
     "text": [
      "Total number of Movies:  17512\n",
      "Total number of Users:  347978\n"
     ]
    }
   ],
   "source": [
    "# count the number of unique movie ID \n",
    "print(\"Total number of Movies: \", df4['movie_id'].nunique())\n",
    "\n",
    "# count the number of unique user ID \n",
    "print(\"Total number of Users: \", df4['user_id'].nunique())"
   ]
  },
  {
   "cell_type": "code",
   "execution_count": 50,
   "id": "bb0a9de3",
   "metadata": {},
   "outputs": [
    {
     "name": "stdout",
     "output_type": "stream",
     "text": [
      "2005-06-01 00:00:00 & 2005-12-31 00:00:00\n"
     ]
    }
   ],
   "source": [
    "# preview rating date range\n",
    "print(df4['date'].min(), \"&\", df4['date'].max())"
   ]
  },
  {
   "cell_type": "code",
   "execution_count": 51,
   "id": "53d10177",
   "metadata": {},
   "outputs": [
    {
     "name": "stdout",
     "output_type": "stream",
     "text": [
      "1896 & 2005\n"
     ]
    }
   ],
   "source": [
    "# preview rating date range\n",
    "print(df4['release_year'].min(), \"&\", df4['release_year'].max())"
   ]
  },
  {
   "cell_type": "code",
   "execution_count": 52,
   "id": "19e291d7",
   "metadata": {},
   "outputs": [],
   "source": [
    "# export df4 data to csv file -- approx 5mil rows for the modeling\n",
    "df4.to_csv('2005-d4.csv', index=False)  "
   ]
  },
  {
   "cell_type": "code",
   "execution_count": 53,
   "id": "608ed9d1",
   "metadata": {},
   "outputs": [
    {
     "data": {
      "text/plain": [
       "<Figure size 1080x720 with 0 Axes>"
      ]
     },
     "metadata": {},
     "output_type": "display_data"
    },
    {
     "data": {
      "image/png": "[encoded data removed]",
      "text/plain": [
       "<Figure size 432x288 with 1 Axes>"
      ]
     },
     "metadata": {
      "needs_background": "light"
     },
     "output_type": "display_data"
    }
   ],
   "source": [
    "# sum of all ratings by movie title\n",
    "mt_rank4 = df4.groupby(\"movie_title\")[\"rating\"].sum()\n",
    "\n",
    "# sort them by highest rating first\n",
    "mt_rank4 = mt_rank4.sort_values(ascending=False)\n",
    "\n",
    "# convert to dataframe\n",
    "top_10mt4 = pd.DataFrame(mt_rank4.head(10))\n",
    "top_10mt4\n",
    "\n",
    "# set figure size \n",
    "plt.figure(figsize=(15,10))\n",
    "\n",
    "# plot graph\n",
    "top_10mt4.plot(kind='barh', color='r')\n",
    "\n",
    "# set the respective labels \n",
    "plt.xlabel('Total Ratings')\n",
    "plt.ylabel('Movie Title')\n",
    "plt.title('Top 10 Movie Ratings from Jun to Dec 2005 (5Mil)', fontweight='bold')\n",
    "plt.show()"
   ]
  },
  {
   "cell_type": "code",
   "execution_count": 54,
   "id": "9293ad96",
   "metadata": {},
   "outputs": [
    {
     "data": {
      "text/plain": [
       "17512"
      ]
     },
     "execution_count": 54,
     "metadata": {},
     "output_type": "execute_result"
    }
   ],
   "source": [
    "# check the number of unique movies in df4\n",
    "df4.movie_id.nunique()"
   ]
  },
  {
   "cell_type": "code",
   "execution_count": 55,
   "id": "ddc74bb1",
   "metadata": {},
   "outputs": [
    {
     "data": {
      "text/html": [
       "<div>\n",
       "<style scoped>\n",
       "    .dataframe tbody tr th:only-of-type {\n",
       "        vertical-align: middle;\n",
       "    }\n",
       "\n",
       "    .dataframe tbody tr th {\n",
       "        vertical-align: top;\n",
       "    }\n",
       "\n",
       "    .dataframe thead th {\n",
       "        text-align: right;\n",
       "    }\n",
       "</style>\n",
       "<table border=\"1\" class=\"dataframe\">\n",
       "  <thead>\n",
       "    <tr style=\"text-align: right;\">\n",
       "      <th></th>\n",
       "      <th>count</th>\n",
       "    </tr>\n",
       "    <tr>\n",
       "      <th>movie_id</th>\n",
       "      <th></th>\n",
       "    </tr>\n",
       "  </thead>\n",
       "  <tbody>\n",
       "    <tr>\n",
       "      <th>1</th>\n",
       "      <td>33</td>\n",
       "    </tr>\n",
       "    <tr>\n",
       "      <th>2</th>\n",
       "      <td>6</td>\n",
       "    </tr>\n",
       "    <tr>\n",
       "      <th>3</th>\n",
       "      <td>56</td>\n",
       "    </tr>\n",
       "    <tr>\n",
       "      <th>4</th>\n",
       "      <td>2</td>\n",
       "    </tr>\n",
       "    <tr>\n",
       "      <th>5</th>\n",
       "      <td>84</td>\n",
       "    </tr>\n",
       "    <tr>\n",
       "      <th>...</th>\n",
       "      <td>...</td>\n",
       "    </tr>\n",
       "    <tr>\n",
       "      <th>17766</th>\n",
       "      <td>29</td>\n",
       "    </tr>\n",
       "    <tr>\n",
       "      <th>17767</th>\n",
       "      <td>21</td>\n",
       "    </tr>\n",
       "    <tr>\n",
       "      <th>17768</th>\n",
       "      <td>53</td>\n",
       "    </tr>\n",
       "    <tr>\n",
       "      <th>17769</th>\n",
       "      <td>135</td>\n",
       "    </tr>\n",
       "    <tr>\n",
       "      <th>17770</th>\n",
       "      <td>37</td>\n",
       "    </tr>\n",
       "  </tbody>\n",
       "</table>\n",
       "<p>17512 rows × 1 columns</p>\n",
       "</div>"
      ],
      "text/plain": [
       "          count\n",
       "movie_id       \n",
       "1            33\n",
       "2             6\n",
       "3            56\n",
       "4             2\n",
       "5            84\n",
       "...         ...\n",
       "17766        29\n",
       "17767        21\n",
       "17768        53\n",
       "17769       135\n",
       "17770        37\n",
       "\n",
       "[17512 rows x 1 columns]"
      ]
     },
     "execution_count": 55,
     "metadata": {},
     "output_type": "execute_result"
    }
   ],
   "source": [
    "# Select count function \n",
    "f = ['count']\n",
    "\n",
    "# Group the 5mil data by the number of ratings per movie_id \n",
    "movie_summary = df4.groupby('movie_id')['rating'].agg(f)\n",
    "movie_summary"
   ]
  },
  {
   "cell_type": "code",
   "execution_count": 56,
   "id": "62f93451",
   "metadata": {},
   "outputs": [
    {
     "data": {
      "text/html": [
       "<div>\n",
       "<style scoped>\n",
       "    .dataframe tbody tr th:only-of-type {\n",
       "        vertical-align: middle;\n",
       "    }\n",
       "\n",
       "    .dataframe tbody tr th {\n",
       "        vertical-align: top;\n",
       "    }\n",
       "\n",
       "    .dataframe thead th {\n",
       "        text-align: right;\n",
       "    }\n",
       "</style>\n",
       "<table border=\"1\" class=\"dataframe\">\n",
       "  <thead>\n",
       "    <tr style=\"text-align: right;\">\n",
       "      <th></th>\n",
       "      <th>movie_id</th>\n",
       "      <th>count</th>\n",
       "      <th>release_year</th>\n",
       "      <th>movie_title</th>\n",
       "    </tr>\n",
       "  </thead>\n",
       "  <tbody>\n",
       "    <tr>\n",
       "      <th>0</th>\n",
       "      <td>1</td>\n",
       "      <td>33.0</td>\n",
       "      <td>2003</td>\n",
       "      <td>Dinosaur Planet</td>\n",
       "    </tr>\n",
       "    <tr>\n",
       "      <th>1</th>\n",
       "      <td>2</td>\n",
       "      <td>6.0</td>\n",
       "      <td>2004</td>\n",
       "      <td>Isle of Man TT 2004 Review</td>\n",
       "    </tr>\n",
       "    <tr>\n",
       "      <th>2</th>\n",
       "      <td>3</td>\n",
       "      <td>56.0</td>\n",
       "      <td>1997</td>\n",
       "      <td>Character</td>\n",
       "    </tr>\n",
       "    <tr>\n",
       "      <th>3</th>\n",
       "      <td>4</td>\n",
       "      <td>2.0</td>\n",
       "      <td>1994</td>\n",
       "      <td>Paula Abdul's Get Up &amp; Dance</td>\n",
       "    </tr>\n",
       "    <tr>\n",
       "      <th>4</th>\n",
       "      <td>5</td>\n",
       "      <td>84.0</td>\n",
       "      <td>2004</td>\n",
       "      <td>The Rise and Fall of ECW</td>\n",
       "    </tr>\n",
       "    <tr>\n",
       "      <th>...</th>\n",
       "      <td>...</td>\n",
       "      <td>...</td>\n",
       "      <td>...</td>\n",
       "      <td>...</td>\n",
       "    </tr>\n",
       "    <tr>\n",
       "      <th>17765</th>\n",
       "      <td>17477</td>\n",
       "      <td>NaN</td>\n",
       "      <td>1991</td>\n",
       "      <td>Giuseppe Verdi: Attila: Teatro Alla Scala</td>\n",
       "    </tr>\n",
       "    <tr>\n",
       "      <th>17766</th>\n",
       "      <td>17542</td>\n",
       "      <td>NaN</td>\n",
       "      <td>1999</td>\n",
       "      <td>The True Story of Private Ryan</td>\n",
       "    </tr>\n",
       "    <tr>\n",
       "      <th>17767</th>\n",
       "      <td>17553</td>\n",
       "      <td>NaN</td>\n",
       "      <td>1998</td>\n",
       "      <td>Swing Craze</td>\n",
       "    </tr>\n",
       "    <tr>\n",
       "      <th>17768</th>\n",
       "      <td>17663</td>\n",
       "      <td>NaN</td>\n",
       "      <td>2002</td>\n",
       "      <td>3-2-1 Penguins: Trouble on Planet Wait-Your-Turn</td>\n",
       "    </tr>\n",
       "    <tr>\n",
       "      <th>17769</th>\n",
       "      <td>17731</td>\n",
       "      <td>NaN</td>\n",
       "      <td>1998</td>\n",
       "      <td>Death Mask</td>\n",
       "    </tr>\n",
       "  </tbody>\n",
       "</table>\n",
       "<p>17770 rows × 4 columns</p>\n",
       "</div>"
      ],
      "text/plain": [
       "       movie_id  count  release_year  \\\n",
       "0             1   33.0          2003   \n",
       "1             2    6.0          2004   \n",
       "2             3   56.0          1997   \n",
       "3             4    2.0          1994   \n",
       "4             5   84.0          2004   \n",
       "...         ...    ...           ...   \n",
       "17765     17477    NaN          1991   \n",
       "17766     17542    NaN          1999   \n",
       "17767     17553    NaN          1998   \n",
       "17768     17663    NaN          2002   \n",
       "17769     17731    NaN          1998   \n",
       "\n",
       "                                            movie_title  \n",
       "0                                       Dinosaur Planet  \n",
       "1                            Isle of Man TT 2004 Review  \n",
       "2                                             Character  \n",
       "3                          Paula Abdul's Get Up & Dance  \n",
       "4                              The Rise and Fall of ECW  \n",
       "...                                                 ...  \n",
       "17765         Giuseppe Verdi: Attila: Teatro Alla Scala  \n",
       "17766                    The True Story of Private Ryan  \n",
       "17767                                       Swing Craze  \n",
       "17768  3-2-1 Penguins: Trouble on Planet Wait-Your-Turn  \n",
       "17769                                        Death Mask  \n",
       "\n",
       "[17770 rows x 4 columns]"
      ]
     },
     "execution_count": 56,
     "metadata": {},
     "output_type": "execute_result"
    }
   ],
   "source": [
    "# merge the two files, for a better overview\n",
    "consol_movie = pd.merge(movie_summary, movie_df, on='movie_id', how='outer')\n",
    "consol_movie"
   ]
  },
  {
   "cell_type": "code",
   "execution_count": 57,
   "id": "fecc4460",
   "metadata": {},
   "outputs": [
    {
     "data": {
      "text/html": [
       "<div>\n",
       "<style scoped>\n",
       "    .dataframe tbody tr th:only-of-type {\n",
       "        vertical-align: middle;\n",
       "    }\n",
       "\n",
       "    .dataframe tbody tr th {\n",
       "        vertical-align: top;\n",
       "    }\n",
       "\n",
       "    .dataframe thead th {\n",
       "        text-align: right;\n",
       "    }\n",
       "</style>\n",
       "<table border=\"1\" class=\"dataframe\">\n",
       "  <thead>\n",
       "    <tr style=\"text-align: right;\">\n",
       "      <th></th>\n",
       "      <th>index</th>\n",
       "      <th>movie_id</th>\n",
       "      <th>count</th>\n",
       "      <th>release_year</th>\n",
       "      <th>movie_title</th>\n",
       "    </tr>\n",
       "  </thead>\n",
       "  <tbody>\n",
       "    <tr>\n",
       "      <th>0</th>\n",
       "      <td>16919</td>\n",
       "      <td>17169</td>\n",
       "      <td>20658.0</td>\n",
       "      <td>2004</td>\n",
       "      <td>National Treasure</td>\n",
       "    </tr>\n",
       "    <tr>\n",
       "      <th>1</th>\n",
       "      <td>17073</td>\n",
       "      <td>17324</td>\n",
       "      <td>17521.0</td>\n",
       "      <td>2005</td>\n",
       "      <td>Hitch</td>\n",
       "    </tr>\n",
       "    <tr>\n",
       "      <th>2</th>\n",
       "      <td>11629</td>\n",
       "      <td>11812</td>\n",
       "      <td>16426.0</td>\n",
       "      <td>2004</td>\n",
       "      <td>Million Dollar Baby</td>\n",
       "    </tr>\n",
       "    <tr>\n",
       "      <th>3</th>\n",
       "      <td>12768</td>\n",
       "      <td>12966</td>\n",
       "      <td>15496.0</td>\n",
       "      <td>2004</td>\n",
       "      <td>The Aviator</td>\n",
       "    </tr>\n",
       "    <tr>\n",
       "      <th>4</th>\n",
       "      <td>5229</td>\n",
       "      <td>5317</td>\n",
       "      <td>14850.0</td>\n",
       "      <td>2000</td>\n",
       "      <td>Miss Congeniality</td>\n",
       "    </tr>\n",
       "    <tr>\n",
       "      <th>...</th>\n",
       "      <td>...</td>\n",
       "      <td>...</td>\n",
       "      <td>...</td>\n",
       "      <td>...</td>\n",
       "      <td>...</td>\n",
       "    </tr>\n",
       "    <tr>\n",
       "      <th>995</th>\n",
       "      <td>1679</td>\n",
       "      <td>1709</td>\n",
       "      <td>1242.0</td>\n",
       "      <td>1981</td>\n",
       "      <td>Clash of the Titans</td>\n",
       "    </tr>\n",
       "    <tr>\n",
       "      <th>996</th>\n",
       "      <td>14842</td>\n",
       "      <td>15064</td>\n",
       "      <td>1240.0</td>\n",
       "      <td>1988</td>\n",
       "      <td>Dangerous Liaisons</td>\n",
       "    </tr>\n",
       "    <tr>\n",
       "      <th>997</th>\n",
       "      <td>8158</td>\n",
       "      <td>8295</td>\n",
       "      <td>1238.0</td>\n",
       "      <td>2003</td>\n",
       "      <td>Holes</td>\n",
       "    </tr>\n",
       "    <tr>\n",
       "      <th>998</th>\n",
       "      <td>8273</td>\n",
       "      <td>8413</td>\n",
       "      <td>1235.0</td>\n",
       "      <td>2003</td>\n",
       "      <td>Girl with a Pearl Earring</td>\n",
       "    </tr>\n",
       "    <tr>\n",
       "      <th>999</th>\n",
       "      <td>16088</td>\n",
       "      <td>16325</td>\n",
       "      <td>1235.0</td>\n",
       "      <td>1968</td>\n",
       "      <td>Planet of the Apes</td>\n",
       "    </tr>\n",
       "  </tbody>\n",
       "</table>\n",
       "<p>1000 rows × 5 columns</p>\n",
       "</div>"
      ],
      "text/plain": [
       "     index  movie_id    count  release_year                movie_title\n",
       "0    16919     17169  20658.0          2004          National Treasure\n",
       "1    17073     17324  17521.0          2005                      Hitch\n",
       "2    11629     11812  16426.0          2004        Million Dollar Baby\n",
       "3    12768     12966  15496.0          2004                The Aviator\n",
       "4     5229      5317  14850.0          2000          Miss Congeniality\n",
       "..     ...       ...      ...           ...                        ...\n",
       "995   1679      1709   1242.0          1981        Clash of the Titans\n",
       "996  14842     15064   1240.0          1988         Dangerous Liaisons\n",
       "997   8158      8295   1238.0          2003                      Holes\n",
       "998   8273      8413   1235.0          2003  Girl with a Pearl Earring\n",
       "999  16088     16325   1235.0          1968         Planet of the Apes\n",
       "\n",
       "[1000 rows x 5 columns]"
      ]
     },
     "execution_count": 57,
     "metadata": {},
     "output_type": "execute_result"
    }
   ],
   "source": [
    "# Sort them with the highest ranking and collect the top 1000 movie ratings \n",
    "\n",
    "top1k_mt = consol_movie.sort_values('count', ascending=False).head(1000).reset_index()\n",
    "top1k_mt"
   ]
  },
  {
   "cell_type": "code",
   "execution_count": 58,
   "id": "1259bd3a",
   "metadata": {},
   "outputs": [],
   "source": [
    "# Export the file to csv for further recommendations in the next two files. \n",
    "top1k_mt.to_csv('2005-d41kMT.csv') "
   ]
  },
  {
   "cell_type": "markdown",
   "id": "81f7298d",
   "metadata": {},
   "source": [
    "# -- End of Capstone Files (1/3) --"
   ]
  }
 ],
 "metadata": {
  "kernelspec": {
   "display_name": "Python 3",
   "language": "python",
   "name": "python3"
  },
  "language_info": {
   "codemirror_mode": {
    "name": "ipython",
    "version": 3
   },
   "file_extension": ".py",
   "mimetype": "text/x-python",
   "name": "python",
   "nbconvert_exporter": "python",
   "pygments_lexer": "ipython3",
   "version": "3.8.8"
  }
 },
 "nbformat": 4,
 "nbformat_minor": 5
}
